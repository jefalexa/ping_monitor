{
 "cells": [
  {
   "cell_type": "code",
   "execution_count": 1,
   "metadata": {},
   "outputs": [
    {
     "name": "stderr",
     "output_type": "stream",
     "text": [
      "<ipython-input-1-e20adef88605>:117 - <module>() Starting Ping Test\n",
      "Starting Ping Test\n"
     ]
    },
    {
     "name": "stdout",
     "output_type": "stream",
     "text": [
      "2022-08-15 07:43 - ping to 10.0.2.217 OK\n",
      "2022-08-15 07:43 - ping to 10.0.2.217 OK\n"
     ]
    },
    {
     "ename": "KeyboardInterrupt",
     "evalue": "",
     "output_type": "error",
     "traceback": [
      "\u001b[0;31m---------------------------------------------------------------------------\u001b[0m",
      "\u001b[0;31mKeyboardInterrupt\u001b[0m                         Traceback (most recent call last)",
      "\u001b[0;32m<ipython-input-1-e20adef88605>\u001b[0m in \u001b[0;36m<module>\u001b[0;34m\u001b[0m\n\u001b[1;32m    122\u001b[0m \u001b[0mmac_address\u001b[0m \u001b[0;34m=\u001b[0m \u001b[0;34m'58:EF:68:EA:54:2D'\u001b[0m\u001b[0;34m\u001b[0m\u001b[0;34m\u001b[0m\u001b[0m\n\u001b[1;32m    123\u001b[0m \u001b[0;34m\u001b[0m\u001b[0m\n\u001b[0;32m--> 124\u001b[0;31m \u001b[0mmain\u001b[0m\u001b[0;34m(\u001b[0m\u001b[0mip_address\u001b[0m\u001b[0;34m,\u001b[0m \u001b[0mmac_address\u001b[0m\u001b[0;34m)\u001b[0m\u001b[0;34m\u001b[0m\u001b[0;34m\u001b[0m\u001b[0m\n\u001b[0m",
      "\u001b[0;32m<ipython-input-1-e20adef88605>\u001b[0m in \u001b[0;36mmain\u001b[0;34m(ip_address, mac_address)\u001b[0m\n\u001b[1;32m    106\u001b[0m                 \u001b[0malert_count\u001b[0m \u001b[0;34m+=\u001b[0m \u001b[0;36m1\u001b[0m\u001b[0;34m\u001b[0m\u001b[0;34m\u001b[0m\u001b[0m\n\u001b[1;32m    107\u001b[0m \u001b[0;34m\u001b[0m\u001b[0m\n\u001b[0;32m--> 108\u001b[0;31m             \u001b[0mtime\u001b[0m\u001b[0;34m.\u001b[0m\u001b[0msleep\u001b[0m\u001b[0;34m(\u001b[0m\u001b[0;36m30\u001b[0m\u001b[0;34m)\u001b[0m\u001b[0;34m\u001b[0m\u001b[0;34m\u001b[0m\u001b[0m\n\u001b[0m\u001b[1;32m    109\u001b[0m \u001b[0;34m\u001b[0m\u001b[0m\n\u001b[1;32m    110\u001b[0m         \u001b[0;32mif\u001b[0m \u001b[0malert_count\u001b[0m \u001b[0;34m>=\u001b[0m \u001b[0;36m4\u001b[0m\u001b[0;34m:\u001b[0m\u001b[0;34m\u001b[0m\u001b[0;34m\u001b[0m\u001b[0m\n",
      "\u001b[0;31mKeyboardInterrupt\u001b[0m: "
     ]
    }
   ],
   "source": [
    "import subprocess\n",
    "import time\n",
    "import datetime\n",
    "from twilio.rest import Client\n",
    "from twilio_info import *\n",
    "import logging \n",
    "import google.cloud.logging\n",
    "import re\n",
    "\n",
    "\n",
    "# Setup Logging\n",
    "file_name = (\"Ping Test\")\n",
    "logger = logging.getLogger(__name__)\n",
    "logging.basicConfig(format=\"%(filename)s:%(lineno)s - %(funcName)s() %(message)s\")\n",
    "logger.setLevel(logging.INFO)\n",
    "\n",
    "auth_file = \"VirtualToolbox-5f6ecffdcf58.json\"\n",
    "\n",
    "client = google.cloud.logging.Client.from_service_account_json(auth_file)\n",
    "client.setup_logging()\n",
    "\n",
    "\n",
    "# Setup Twilio\n",
    "\n",
    "client = Client(twilio_sid, twilio_auth_token)\n",
    "\n",
    "def send_alert(msg):\n",
    "    dtnow = datetime.datetime.strftime(datetime.datetime.now(), \"%Y-%m-%d %H:%M\")\n",
    "    msg_body = \"{}:  {}\".format(dtnow, msg)\n",
    "    try:\n",
    "        logger.error(msg_body)\n",
    "        message = client.messages.create(body=msg_body,from_=phone_num_from,to=phone_num_to)\n",
    "        time.sleep(30)\n",
    "        logger.info(\"Attemped to send alert text.  Status:  {}\".format(message.status))\n",
    "    except:\n",
    "        logger.critical(\"Attemped to send alert text.  Status:  Failed\")\n",
    " \n",
    "\n",
    "# Setup Ping script\n",
    "\n",
    "def ping_addr(ip_address):\n",
    "    try:\n",
    "        res = subprocess.call(['ping', '-c', '3', ip_address])\n",
    "    except:\n",
    "        res = 99\n",
    "    dtnow = datetime.datetime.strftime(datetime.datetime.now(), \"%Y-%m-%d %H:%M\")\n",
    "    if res == 0:\n",
    "        print (\"{} - ping to {} OK\".format(dtnow, ip_address))\n",
    "    elif res == 2:\n",
    "        print (\"{} - no response from {}\".format(dtnow, ip_address))\n",
    "    else:\n",
    "        print (\"{} - ping to {} failed!\".format(dtnow, ip_address))\n",
    "    return(res)\n",
    "    \n",
    "\n",
    "class address:\n",
    "    def __init__(self, ip_address, mac_address):\n",
    "        self.call_count = 0\n",
    "        self.ip_address = ip_address\n",
    "        self.mac_address = mac_address\n",
    "        if not self.verify_address(ip_address, mac_address):\n",
    "            self.ip_address = self.find_ip_address(mac_address)\n",
    "    \n",
    "    def find_mac_address(self, ip_address):\n",
    "        ping_addr(ip_address)\n",
    "        pid = subprocess.Popen([\"arp\", \"-n\", ip_address], stdout=subprocess.PIPE)\n",
    "        s = pid.communicate()[0]\n",
    "        mac = re.search(r\"(([a-f\\d]{1,2}\\:){5}[a-f\\d]{1,2})\", str(s)).groups()[0]\n",
    "        return(mac)\n",
    "\n",
    "    def find_ip_address(self, mac_address):\n",
    "        ping_addr('255.255.255.255')\n",
    "        pid = subprocess.Popen([\"arp\", \"-an\"], stdout=subprocess.PIPE)\n",
    "        s = pid.communicate()[0]\n",
    "        ip_address = re.search(f\"\\(([0-9]+\\.[0-9]+\\.[0-9]+\\.[0-9]+)\\) at {mac_address.lower()}\", str(s).lower())[1]\n",
    "        return(ip_address)\n",
    "\n",
    "    def verify_address(self, ip_address, mac_address):\n",
    "        mac_address2 = self.find_mac_address(ip_address)\n",
    "        return(mac_address.lower() == mac_address2.lower())\n",
    "    \n",
    "    def get_ip_address(self):\n",
    "        self.call_count += 1\n",
    "        if self.call_count > 10:\n",
    "            self.__init__(self.ip_address, self.mac_address)\n",
    "        return(self.ip_address)\n",
    "    \n",
    "def main(ip_address, mac_address):    \n",
    "    addr = address(ip_address, mac_address)\n",
    "    while True:\n",
    "        alert_count = 0\n",
    "\n",
    "        while alert_count < 4:\n",
    "            status = ping_addr(addr.get_ip_address())\n",
    "            count = 0\n",
    "\n",
    "            while (status != 0)&(count<5):\n",
    "                dtnow = datetime.datetime.strftime(datetime.datetime.now(), \"%Y-%m-%d %H:%M\")\n",
    "                print(\"{} - Ping failed, backoff and retry\".format(dtnow))\n",
    "                time.sleep(3)\n",
    "                status = ping_addr(ip_address)\n",
    "                count += 1\n",
    "\n",
    "            if status != 0:\n",
    "                send_alert(\"Host {} is down!\".format(ip_address))\n",
    "                alert_count += 1\n",
    "\n",
    "            time.sleep(30)\n",
    "\n",
    "        if alert_count >= 4:\n",
    "            dtnow = datetime.datetime.strftime(datetime.datetime.now(), \"%Y-%m-%d %H:%M\")\n",
    "            print(\"{} - Exceeded alert count, backing off for 4 hours\".format(dtnow))\n",
    "            time.sleep(4*60*60)\n",
    "            count = 0\n",
    "            alert_count = 0\n",
    "\n",
    "logger.info(\"Starting Ping Test\")\n",
    "\n",
    "\n",
    "\n",
    "ip_address = \"10.0.2.217\"\n",
    "mac_address = '58:EF:68:EA:54:2D'\n",
    "\n",
    "main(ip_address, mac_address)\n"
   ]
  },
  {
   "cell_type": "code",
   "execution_count": 2,
   "metadata": {},
   "outputs": [
    {
     "ename": "AttributeError",
     "evalue": "'address' object has no attribute 'ping_addr'",
     "output_type": "error",
     "traceback": [
      "\u001b[0;31m---------------------------------------------------------------------------\u001b[0m",
      "\u001b[0;31mAttributeError\u001b[0m                            Traceback (most recent call last)",
      "\u001b[0;32m<ipython-input-2-789b78639456>\u001b[0m in \u001b[0;36m<module>\u001b[0;34m\u001b[0m\n\u001b[0;32m----> 1\u001b[0;31m \u001b[0mmain\u001b[0m\u001b[0;34m(\u001b[0m\u001b[0mip_address\u001b[0m\u001b[0;34m,\u001b[0m \u001b[0mmac_address\u001b[0m\u001b[0;34m)\u001b[0m\u001b[0;34m\u001b[0m\u001b[0;34m\u001b[0m\u001b[0m\n\u001b[0m",
      "\u001b[0;32m<ipython-input-1-01e809e31c49>\u001b[0m in \u001b[0;36mmain\u001b[0;34m(ip_address, mac_address)\u001b[0m\n\u001b[1;32m     87\u001b[0m \u001b[0;34m\u001b[0m\u001b[0m\n\u001b[1;32m     88\u001b[0m \u001b[0;32mdef\u001b[0m \u001b[0mmain\u001b[0m\u001b[0;34m(\u001b[0m\u001b[0mip_address\u001b[0m\u001b[0;34m,\u001b[0m \u001b[0mmac_address\u001b[0m\u001b[0;34m)\u001b[0m\u001b[0;34m:\u001b[0m\u001b[0;34m\u001b[0m\u001b[0;34m\u001b[0m\u001b[0m\n\u001b[0;32m---> 89\u001b[0;31m     \u001b[0maddr\u001b[0m \u001b[0;34m=\u001b[0m \u001b[0maddress\u001b[0m\u001b[0;34m(\u001b[0m\u001b[0mip_address\u001b[0m\u001b[0;34m,\u001b[0m \u001b[0mmac_address\u001b[0m\u001b[0;34m)\u001b[0m\u001b[0;34m\u001b[0m\u001b[0;34m\u001b[0m\u001b[0m\n\u001b[0m\u001b[1;32m     90\u001b[0m     \u001b[0;32mwhile\u001b[0m \u001b[0;32mTrue\u001b[0m\u001b[0;34m:\u001b[0m\u001b[0;34m\u001b[0m\u001b[0;34m\u001b[0m\u001b[0m\n\u001b[1;32m     91\u001b[0m         \u001b[0malert_count\u001b[0m \u001b[0;34m=\u001b[0m \u001b[0;36m0\u001b[0m\u001b[0;34m\u001b[0m\u001b[0;34m\u001b[0m\u001b[0m\n",
      "\u001b[0;32m<ipython-input-1-01e809e31c49>\u001b[0m in \u001b[0;36m__init__\u001b[0;34m(self, ip_address, mac_address)\u001b[0m\n\u001b[1;32m     59\u001b[0m         \u001b[0mself\u001b[0m\u001b[0;34m.\u001b[0m\u001b[0mip_address\u001b[0m \u001b[0;34m=\u001b[0m \u001b[0mip_address\u001b[0m\u001b[0;34m\u001b[0m\u001b[0;34m\u001b[0m\u001b[0m\n\u001b[1;32m     60\u001b[0m         \u001b[0mself\u001b[0m\u001b[0;34m.\u001b[0m\u001b[0mmac_address\u001b[0m \u001b[0;34m=\u001b[0m \u001b[0mmac_address\u001b[0m\u001b[0;34m\u001b[0m\u001b[0;34m\u001b[0m\u001b[0m\n\u001b[0;32m---> 61\u001b[0;31m         \u001b[0;32mif\u001b[0m \u001b[0;32mnot\u001b[0m \u001b[0mself\u001b[0m\u001b[0;34m.\u001b[0m\u001b[0mverify_address\u001b[0m\u001b[0;34m(\u001b[0m\u001b[0mip_address\u001b[0m\u001b[0;34m,\u001b[0m \u001b[0mmac_address\u001b[0m\u001b[0;34m)\u001b[0m\u001b[0;34m:\u001b[0m\u001b[0;34m\u001b[0m\u001b[0;34m\u001b[0m\u001b[0m\n\u001b[0m\u001b[1;32m     62\u001b[0m             \u001b[0mself\u001b[0m\u001b[0;34m.\u001b[0m\u001b[0mip_address\u001b[0m \u001b[0;34m=\u001b[0m \u001b[0mself\u001b[0m\u001b[0;34m.\u001b[0m\u001b[0mfind_ip_address\u001b[0m\u001b[0;34m(\u001b[0m\u001b[0mmac_address\u001b[0m\u001b[0;34m)\u001b[0m\u001b[0;34m\u001b[0m\u001b[0;34m\u001b[0m\u001b[0m\n\u001b[1;32m     63\u001b[0m \u001b[0;34m\u001b[0m\u001b[0m\n",
      "\u001b[0;32m<ipython-input-1-01e809e31c49>\u001b[0m in \u001b[0;36mverify_address\u001b[0;34m(self, ip_address, mac_address)\u001b[0m\n\u001b[1;32m     77\u001b[0m \u001b[0;34m\u001b[0m\u001b[0m\n\u001b[1;32m     78\u001b[0m     \u001b[0;32mdef\u001b[0m \u001b[0mverify_address\u001b[0m\u001b[0;34m(\u001b[0m\u001b[0mself\u001b[0m\u001b[0;34m,\u001b[0m \u001b[0mip_address\u001b[0m\u001b[0;34m,\u001b[0m \u001b[0mmac_address\u001b[0m\u001b[0;34m)\u001b[0m\u001b[0;34m:\u001b[0m\u001b[0;34m\u001b[0m\u001b[0;34m\u001b[0m\u001b[0m\n\u001b[0;32m---> 79\u001b[0;31m         \u001b[0mmac_address2\u001b[0m \u001b[0;34m=\u001b[0m \u001b[0mself\u001b[0m\u001b[0;34m.\u001b[0m\u001b[0mfind_mac_address\u001b[0m\u001b[0;34m(\u001b[0m\u001b[0mip_address\u001b[0m\u001b[0;34m)\u001b[0m\u001b[0;34m\u001b[0m\u001b[0;34m\u001b[0m\u001b[0m\n\u001b[0m\u001b[1;32m     80\u001b[0m         \u001b[0;32mreturn\u001b[0m\u001b[0;34m(\u001b[0m\u001b[0mmac_address\u001b[0m\u001b[0;34m.\u001b[0m\u001b[0mlower\u001b[0m\u001b[0;34m(\u001b[0m\u001b[0;34m)\u001b[0m \u001b[0;34m==\u001b[0m \u001b[0mmac_address2\u001b[0m\u001b[0;34m.\u001b[0m\u001b[0mlower\u001b[0m\u001b[0;34m(\u001b[0m\u001b[0;34m)\u001b[0m\u001b[0;34m)\u001b[0m\u001b[0;34m\u001b[0m\u001b[0;34m\u001b[0m\u001b[0m\n\u001b[1;32m     81\u001b[0m \u001b[0;34m\u001b[0m\u001b[0m\n",
      "\u001b[0;32m<ipython-input-1-01e809e31c49>\u001b[0m in \u001b[0;36mfind_mac_address\u001b[0;34m(self, ip_address)\u001b[0m\n\u001b[1;32m     63\u001b[0m \u001b[0;34m\u001b[0m\u001b[0m\n\u001b[1;32m     64\u001b[0m     \u001b[0;32mdef\u001b[0m \u001b[0mfind_mac_address\u001b[0m\u001b[0;34m(\u001b[0m\u001b[0mself\u001b[0m\u001b[0;34m,\u001b[0m \u001b[0mip_address\u001b[0m\u001b[0;34m)\u001b[0m\u001b[0;34m:\u001b[0m\u001b[0;34m\u001b[0m\u001b[0;34m\u001b[0m\u001b[0m\n\u001b[0;32m---> 65\u001b[0;31m         \u001b[0mself\u001b[0m\u001b[0;34m.\u001b[0m\u001b[0mping_addr\u001b[0m\u001b[0;34m(\u001b[0m\u001b[0mip_address\u001b[0m\u001b[0;34m)\u001b[0m\u001b[0;34m\u001b[0m\u001b[0;34m\u001b[0m\u001b[0m\n\u001b[0m\u001b[1;32m     66\u001b[0m         \u001b[0mpid\u001b[0m \u001b[0;34m=\u001b[0m \u001b[0msubprocess\u001b[0m\u001b[0;34m.\u001b[0m\u001b[0mPopen\u001b[0m\u001b[0;34m(\u001b[0m\u001b[0;34m[\u001b[0m\u001b[0;34m\"arp\"\u001b[0m\u001b[0;34m,\u001b[0m \u001b[0;34m\"-n\"\u001b[0m\u001b[0;34m,\u001b[0m \u001b[0mip_address\u001b[0m\u001b[0;34m]\u001b[0m\u001b[0;34m,\u001b[0m \u001b[0mstdout\u001b[0m\u001b[0;34m=\u001b[0m\u001b[0msubprocess\u001b[0m\u001b[0;34m.\u001b[0m\u001b[0mPIPE\u001b[0m\u001b[0;34m)\u001b[0m\u001b[0;34m\u001b[0m\u001b[0;34m\u001b[0m\u001b[0m\n\u001b[1;32m     67\u001b[0m         \u001b[0ms\u001b[0m \u001b[0;34m=\u001b[0m \u001b[0mpid\u001b[0m\u001b[0;34m.\u001b[0m\u001b[0mcommunicate\u001b[0m\u001b[0;34m(\u001b[0m\u001b[0;34m)\u001b[0m\u001b[0;34m[\u001b[0m\u001b[0;36m0\u001b[0m\u001b[0;34m]\u001b[0m\u001b[0;34m\u001b[0m\u001b[0;34m\u001b[0m\u001b[0m\n",
      "\u001b[0;31mAttributeError\u001b[0m: 'address' object has no attribute 'ping_addr'"
     ]
    }
   ],
   "source": [
    "main(ip_address, mac_address)"
   ]
  },
  {
   "cell_type": "code",
   "execution_count": 8,
   "metadata": {},
   "outputs": [],
   "source": []
  },
  {
   "cell_type": "code",
   "execution_count": 9,
   "metadata": {},
   "outputs": [
    {
     "name": "stdout",
     "output_type": "stream",
     "text": [
      "2022-08-15 07:28 - ping to 10.0.2.217 OK\n"
     ]
    }
   ],
   "source": [
    "addr = address(ip_address, mac_address)"
   ]
  },
  {
   "cell_type": "code",
   "execution_count": 24,
   "metadata": {},
   "outputs": [
    {
     "name": "stdout",
     "output_type": "stream",
     "text": [
      "2 :   10.0.2.217\n"
     ]
    }
   ],
   "source": [
    "print(addr.call_count, \":  \", addr.get_ip_address())"
   ]
  },
  {
   "cell_type": "code",
   "execution_count": 7,
   "metadata": {},
   "outputs": [
    {
     "name": "stdout",
     "output_type": "stream",
     "text": [
      "2022-08-15 07:17 - ping to 10.0.2.217 OK\n"
     ]
    },
    {
     "data": {
      "text/plain": [
       "True"
      ]
     },
     "execution_count": 7,
     "metadata": {},
     "output_type": "execute_result"
    }
   ],
   "source": [
    "verify_address(ip_address, mac_address)\n",
    "\n",
    "get_ip_address(mac_address)"
   ]
  },
  {
   "cell_type": "code",
   "execution_count": 3,
   "metadata": {},
   "outputs": [],
   "source": [
    "arp_res = subprocess.call(['arp', mac_address])"
   ]
  },
  {
   "cell_type": "code",
   "execution_count": 6,
   "metadata": {},
   "outputs": [],
   "source": []
  },
  {
   "cell_type": "code",
   "execution_count": 4,
   "metadata": {},
   "outputs": [
    {
     "data": {
      "text/plain": [
       "'58:ef:68:ea:54:2d'"
      ]
     },
     "execution_count": 4,
     "metadata": {},
     "output_type": "execute_result"
    }
   ],
   "source": [
    "\n",
    "\n",
    "get_mac_address(address)"
   ]
  },
  {
   "cell_type": "code",
   "execution_count": 24,
   "metadata": {},
   "outputs": [
    {
     "name": "stdout",
     "output_type": "stream",
     "text": [
      "2022-08-15 07:05 - ping to 255.255.255.255 OK\n"
     ]
    },
    {
     "data": {
      "text/plain": [
       "0"
      ]
     },
     "execution_count": 24,
     "metadata": {},
     "output_type": "execute_result"
    }
   ],
   "source": [
    "ping_addr('255.255.255.255')"
   ]
  },
  {
   "cell_type": "code",
   "execution_count": 26,
   "metadata": {},
   "outputs": [
    {
     "name": "stdout",
     "output_type": "stream",
     "text": [
      "2022-08-15 07:06 - ping to 255.255.255.255 OK\n"
     ]
    },
    {
     "data": {
      "text/plain": [
       "'10.0.2.217'"
      ]
     },
     "execution_count": 26,
     "metadata": {},
     "output_type": "execute_result"
    }
   ],
   "source": [
    "\n",
    "\n",
    "get_ip_address(mac_address)"
   ]
  },
  {
   "cell_type": "code",
   "execution_count": 6,
   "metadata": {},
   "outputs": [
    {
     "data": {
      "text/plain": [
       "b'? (10.0.2.1) at d4:8c:b5:ac:98:b6 on en0 ifscope [ethernet]\\n? (10.0.2.11) at 0:0:5e:0:1:1 on en0 ifscope [ethernet]\\n? (10.0.2.154) at 3c:7:54:45:bb:c2 on en0 ifscope permanent [ethernet]\\n? (10.0.2.157) at ac:ae:19:a4:55:fd on en0 ifscope [ethernet]\\n? (10.0.2.158) at b8:27:eb:95:68:c3 on en0 ifscope [ethernet]\\n? (10.0.2.159) at 8:5:81:2a:e6:12 on en0 ifscope [ethernet]\\n? (10.0.2.166) at 2c:b4:3a:1e:1f:86 on en0 ifscope [ethernet]\\n? (10.0.2.168) at 0:17:88:68:46:a4 on en0 ifscope [ethernet]\\n? (10.0.2.182) at d0:4d:2c:3a:8a:5d on en0 ifscope [ethernet]\\n? (10.0.2.186) at fe:ba:99:ef:40:93 on en0 ifscope [ethernet]\\n? (10.0.2.208) at 6e:c:df:54:8:9d on en0 ifscope [ethernet]\\n? (10.0.2.213) at 5e:63:ab:97:9:c4 on en0 ifscope [ethernet]\\n? (10.0.2.217) at 58:ef:68:ea:54:2d on en0 ifscope [ethernet]\\n? (10.0.2.255) at ff:ff:ff:ff:ff:ff on en0 ifscope [ethernet]\\n? (169.254.255.255) at d4:8c:b5:ac:98:b6 on en1 [ethernet]\\n? (224.0.0.251) at 1:0:5e:0:0:fb on en0 ifscope permanent [ethernet]\\n? (239.255.255.250) at 1:0:5e:7f:ff:fa on en0 ifscope permanent [ethernet]\\n? (239.255.255.250) at 1:0:5e:7f:ff:fa on en1 ifscope permanent [ethernet]\\n? (239.255.255.250) at 1:0:5e:7f:ff:fa on bridge0 ifscope permanent [ethernet]\\n? (255.255.255.255) at ff:ff:ff:ff:ff:ff on en0 ifscope [ethernet]\\n'"
      ]
     },
     "execution_count": 6,
     "metadata": {},
     "output_type": "execute_result"
    }
   ],
   "source": [
    "s"
   ]
  },
  {
   "cell_type": "code",
   "execution_count": 22,
   "metadata": {},
   "outputs": [
    {
     "data": {
      "text/plain": [
       "'10.0.2.217'"
      ]
     },
     "execution_count": 22,
     "metadata": {},
     "output_type": "execute_result"
    }
   ],
   "source": []
  },
  {
   "cell_type": "code",
   "execution_count": 9,
   "metadata": {},
   "outputs": [
    {
     "name": "stderr",
     "output_type": "stream",
     "text": [
      "<ipython-input-9-9e23b7140649>:1 - <module>() Attemped to send alert text.  Status:  Failed\n",
      "Attemped to send alert text.  Status:  Failed\n"
     ]
    }
   ],
   "source": [
    "\n",
    "logger.critical(\"Attemped to send alert text.  Status:  Failed\")"
   ]
  },
  {
   "cell_type": "code",
   "execution_count": 2,
   "metadata": {},
   "outputs": [
    {
     "name": "stderr",
     "output_type": "stream",
     "text": [
      "<ipython-input-1-4bcc35ba3608>:29 - send_alert() 2020-07-08 07:59:  Host 10.0.2.183 is down!\n",
      "2020-07-08 07:59:  Host 10.0.2.183 is down!\n",
      "http_client.py:73 - request() POST Request: https://api.twilio.com/2010-04-01/Accounts/AC4ec8a19b2be6797eb5825903ff609d39/Messages.json\n",
      "POST Request: https://api.twilio.com/2010-04-01/Accounts/AC4ec8a19b2be6797eb5825903ff609d39/Messages.json\n",
      "http_client.py:75 - request() PAYLOAD: {'To': '13038182403', 'From': '12052933447', 'Body': '2020-07-08 07:59:  Host 10.0.2.183 is down!'}\n",
      "PAYLOAD: {'To': '13038182403', 'From': '12052933447', 'Body': '2020-07-08 07:59:  Host 10.0.2.183 is down!'}\n",
      "http_client.py:91 - request() POST Response: 201 {\"sid\": \"SM25aad3d204d241109907399723350c9f\", \"date_created\": \"Wed, 08 Jul 2020 13:59:47 +0000\", \"date_updated\": \"Wed, 08 Jul 2020 13:59:47 +0000\", \"date_sent\": null, \"account_sid\": \"AC4ec8a19b2be6797eb5825903ff609d39\", \"to\": \"+13038182403\", \"from\": \"+12052933447\", \"messaging_service_sid\": null, \"body\": \"2020-07-08 07:59:  Host 10.0.2.183 is down!\", \"status\": \"queued\", \"num_segments\": \"1\", \"num_media\": \"0\", \"direction\": \"outbound-api\", \"api_version\": \"2010-04-01\", \"price\": null, \"price_unit\": \"USD\", \"error_code\": null, \"error_message\": null, \"uri\": \"/2010-04-01/Accounts/AC4ec8a19b2be6797eb5825903ff609d39/Messages/SM25aad3d204d241109907399723350c9f.json\", \"subresource_uris\": {\"media\": \"/2010-04-01/Accounts/AC4ec8a19b2be6797eb5825903ff609d39/Messages/SM25aad3d204d241109907399723350c9f/Media.json\"}}\n",
      "POST Response: 201 {\"sid\": \"SM25aad3d204d241109907399723350c9f\", \"date_created\": \"Wed, 08 Jul 2020 13:59:47 +0000\", \"date_updated\": \"Wed, 08 Jul 2020 13:59:47 +0000\", \"date_sent\": null, \"account_sid\": \"AC4ec8a19b2be6797eb5825903ff609d39\", \"to\": \"+13038182403\", \"from\": \"+12052933447\", \"messaging_service_sid\": null, \"body\": \"2020-07-08 07:59:  Host 10.0.2.183 is down!\", \"status\": \"queued\", \"num_segments\": \"1\", \"num_media\": \"0\", \"direction\": \"outbound-api\", \"api_version\": \"2010-04-01\", \"price\": null, \"price_unit\": \"USD\", \"error_code\": null, \"error_message\": null, \"uri\": \"/2010-04-01/Accounts/AC4ec8a19b2be6797eb5825903ff609d39/Messages/SM25aad3d204d241109907399723350c9f.json\", \"subresource_uris\": {\"media\": \"/2010-04-01/Accounts/AC4ec8a19b2be6797eb5825903ff609d39/Messages/SM25aad3d204d241109907399723350c9f/Media.json\"}}\n",
      "<ipython-input-1-4bcc35ba3608>:32 - send_alert() Attemped to send alert text.  Status:  queued\n",
      "Attemped to send alert text.  Status:  queued\n"
     ]
    }
   ],
   "source": [
    "   \n",
    "send_alert(\"Host {} is down!\".format(address))"
   ]
  },
  {
   "cell_type": "code",
   "execution_count": 5,
   "metadata": {},
   "outputs": [
    {
     "ename": "NameError",
     "evalue": "name 'message' is not defined",
     "output_type": "error",
     "traceback": [
      "\u001b[0;31m---------------------------------------------------------------------------\u001b[0m",
      "\u001b[0;31mNameError\u001b[0m                                 Traceback (most recent call last)",
      "\u001b[0;32m<ipython-input-5-5acfb7e2d8d6>\u001b[0m in \u001b[0;36m<module>\u001b[0;34m\u001b[0m\n\u001b[0;32m----> 1\u001b[0;31m \u001b[0mmessage\u001b[0m\u001b[0;34m.\u001b[0m\u001b[0mstatus\u001b[0m\u001b[0;34m\u001b[0m\u001b[0;34m\u001b[0m\u001b[0m\n\u001b[0m",
      "\u001b[0;31mNameError\u001b[0m: name 'message' is not defined"
     ]
    }
   ],
   "source": [
    "message.status"
   ]
  },
  {
   "cell_type": "code",
   "execution_count": null,
   "metadata": {},
   "outputs": [],
   "source": []
  }
 ],
 "metadata": {
  "kernelspec": {
   "display_name": "Python 3",
   "language": "python",
   "name": "python3"
  },
  "language_info": {
   "codemirror_mode": {
    "name": "ipython",
    "version": 3
   },
   "file_extension": ".py",
   "mimetype": "text/x-python",
   "name": "python",
   "nbconvert_exporter": "python",
   "pygments_lexer": "ipython3",
   "version": "3.8.2"
  }
 },
 "nbformat": 4,
 "nbformat_minor": 4
}
