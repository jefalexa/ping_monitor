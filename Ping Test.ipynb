{
 "cells": [
  {
   "cell_type": "code",
   "execution_count": null,
   "metadata": {},
   "outputs": [
    {
     "name": "stderr",
     "output_type": "stream",
     "text": [
      "<ipython-input-1-ad79c3200bdb>:141 - <module>() Starting Ping Test\n",
      "Starting Ping Test\n"
     ]
    },
    {
     "name": "stdout",
     "output_type": "stream",
     "text": [
      "2022-08-18 16:38 - ping to 10.0.2.217 OK\n",
      "2022-08-18 16:38 - ping to 10.0.2.217 OK\n",
      "2022-08-18 16:39 - ping to 10.0.2.217 OK\n",
      "2022-08-18 16:40 - ping to 10.0.2.217 OK\n",
      "2022-08-18 16:40 - ping to 10.0.2.217 OK\n",
      "2022-08-18 16:41 - ping to 10.0.2.217 OK\n"
     ]
    }
   ],
   "source": [
    "import subprocess\n",
    "import time\n",
    "import datetime\n",
    "from twilio.rest import Client\n",
    "from twilio_info import *\n",
    "import logging \n",
    "import google.cloud.logging\n",
    "import re\n",
    "\n",
    "\n",
    "# Setup Logging\n",
    "file_name = (\"Ping Test\")\n",
    "logger = logging.getLogger(__name__)\n",
    "logging.basicConfig(format=\"%(filename)s:%(lineno)s - %(funcName)s() %(message)s\")\n",
    "logger.setLevel(logging.INFO)\n",
    "\n",
    "auth_file = \"VirtualToolbox-5f6ecffdcf58.json\"\n",
    "\n",
    "client = google.cloud.logging.Client.from_service_account_json(auth_file)\n",
    "client.setup_logging()\n",
    "\n",
    "\n",
    "# Setup Twilio\n",
    "\n",
    "client = Client(twilio_sid, twilio_auth_token)\n",
    "\n",
    "def send_alert(msg):\n",
    "    dtnow = datetime.datetime.strftime(datetime.datetime.now(), \"%Y-%m-%d %H:%M\")\n",
    "    msg_body = \"{}:  {}\".format(dtnow, msg)\n",
    "    try:\n",
    "        logger.error(msg_body)\n",
    "        message = client.messages.create(body=msg_body,from_=phone_num_from,to=phone_num_to)\n",
    "        time.sleep(30)\n",
    "        logger.info(\"Attemped to send alert text.  Status:  {}\".format(message.status))\n",
    "    except:\n",
    "        logger.critical(\"Attemped to send alert text.  Status:  Failed\")\n",
    " \n",
    "\n",
    "# Setup Ping script\n",
    "\n",
    "def ping_addr(ip_address):\n",
    "    try:\n",
    "        res = subprocess.call(['ping', '-c', '3', ip_address])\n",
    "    except:\n",
    "        res = 99\n",
    "    dtnow = datetime.datetime.strftime(datetime.datetime.now(), \"%Y-%m-%d %H:%M\")\n",
    "    if res == 0:\n",
    "        print (\"{} - ping to {} OK\".format(dtnow, ip_address))\n",
    "    elif res == 2:\n",
    "        print (\"{} - no response from {}\".format(dtnow, ip_address))\n",
    "    else:\n",
    "        print (\"{} - ping to {} failed!\".format(dtnow, ip_address))\n",
    "    return(res)\n",
    "    \n",
    "\n",
    "def ping_sweep(subnet):\n",
    "    for x in range(1, 255):\n",
    "        ip_address = f\"{subnet}{x}\"\n",
    "        print(ip_address)\n",
    "        subprocess.call(['ping', '-w', '0.1', '-c', '1', ip_address])\n",
    "    return    \n",
    "\n",
    "class address:\n",
    "    def __init__(self, ip_address, mac_address):\n",
    "        self.call_count = 0\n",
    "        self.ip_address = ip_address\n",
    "        self.mac_address = mac_address\n",
    "        if not self.verify_address(ip_address, mac_address):\n",
    "            self.ip_address = self.find_ip_address(mac_address, subnet)\n",
    "    \n",
    "    def find_mac_address(self, ip_address):\n",
    "        ping_addr(ip_address)\n",
    "        pid = subprocess.Popen([\"arp\", \"-n\", ip_address], stdout=subprocess.PIPE)\n",
    "        s = pid.communicate()[0]\n",
    "        results = re.search(r\"(([a-f\\d]{1,2}\\:){5}[a-f\\d]{1,2})\", str(s))\n",
    "        if results:\n",
    "            mac = results.groups()[0]\n",
    "        else:\n",
    "            mac = ''\n",
    "        return(mac)\n",
    "\n",
    "    def find_ip_address(self, mac_address, subnet):\n",
    "        ping_sweep(subnet)\n",
    "        pid = subprocess.Popen([\"arp\", \"-an\"], stdout=subprocess.PIPE)\n",
    "        s = pid.communicate()[0]\n",
    "        results = re.search(f\"\\(([0-9]+\\.[0-9]+\\.[0-9]+\\.[0-9]+)\\) at {mac_address.lower()}\", str(s).lower())\n",
    "        if results:\n",
    "            ip_address = results[1]\n",
    "        else:\n",
    "            ip_address = ''\n",
    "        return(ip_address)\n",
    "\n",
    "    def verify_address(self, ip_address, mac_address):\n",
    "        mac_address2 = self.find_mac_address(ip_address)\n",
    "        return(mac_address.lower() == mac_address2.lower())\n",
    "    \n",
    "    def get_ip_address(self):\n",
    "        self.call_count += 1\n",
    "        if self.call_count > 10:\n",
    "            self.__init__(self.ip_address, self.mac_address)\n",
    "        return(self.ip_address)\n",
    "    \n",
    "def main(ip_address, mac_address, device_name):    \n",
    "    addr = address(ip_address, mac_address)\n",
    "    alert_active = False\n",
    "    while True:\n",
    "        alert_count = 0\n",
    "\n",
    "        while alert_count < 4:\n",
    "            status = ping_addr(addr.get_ip_address())\n",
    "            count = 0\n",
    "            \n",
    "            if (alert_active)&(status == 0):\n",
    "                dtnow = datetime.datetime.strftime(datetime.datetime.now(), \"%Y-%m-%d %H:%M\")\n",
    "                print(\"{} - Host back up\".format(dtnow))\n",
    "                send_alert(\"{} has been restored!\".format(device_name))\n",
    "                alert_active = False\n",
    "                \n",
    "\n",
    "            while (status != 0)&(count<5):\n",
    "                dtnow = datetime.datetime.strftime(datetime.datetime.now(), \"%Y-%m-%d %H:%M\")\n",
    "                print(\"{} - Ping failed, backoff and retry\".format(dtnow))\n",
    "                time.sleep(3)\n",
    "                status = ping_addr(ip_address)\n",
    "                count += 1\n",
    "\n",
    "            if status != 0:\n",
    "                send_alert(\"{} monitor is not responding!\".format(device_name))\n",
    "                alert_count += 1\n",
    "                alert_active = True\n",
    "\n",
    "            time.sleep(30)\n",
    "\n",
    "        if alert_count >= 4:\n",
    "            dtnow = datetime.datetime.strftime(datetime.datetime.now(), \"%Y-%m-%d %H:%M\")\n",
    "            print(\"{} - Exceeded alert count, backing off for 4 hours\".format(dtnow))\n",
    "            time.sleep(4*60*60)\n",
    "            count = 0\n",
    "            alert_count = 0\n",
    "\n",
    "logger.info(\"Starting Ping Test\")\n",
    "\n",
    "\n",
    "\n",
    "ip_address = \"10.0.2.217\"\n",
    "subnet = '10.0.2.'\n",
    "mac_address = '58:EF:68:EA:54:2D'\n",
    "device_name = 'Freezer'\n",
    "\n",
    "main(ip_address, mac_address, device_name)\n"
   ]
  },
  {
   "cell_type": "code",
   "execution_count": 16,
   "metadata": {},
   "outputs": [],
   "source": [
    "def main(ip_address, mac_address, device_name):    \n",
    "    addr = address(ip_address, mac_address)\n",
    "    alert_active = False\n",
    "    while True:\n",
    "        alert_count = 0\n",
    "\n",
    "        while alert_count < 4:\n",
    "            status = ping_addr(addr.get_ip_address())\n",
    "            count = 0\n",
    "            \n",
    "            if (alert_active)&(status == 0):\n",
    "                dtnow = datetime.datetime.strftime(datetime.datetime.now(), \"%Y-%m-%d %H:%M\")\n",
    "                print(\"{} - Host back up\".format(dtnow))\n",
    "                send_alert(\"{} has been restored!\".format(device_name))\n",
    "                alert_active = False\n",
    "                \n",
    "\n",
    "            while (status != 0)&(count<5):\n",
    "                dtnow = datetime.datetime.strftime(datetime.datetime.now(), \"%Y-%m-%d %H:%M\")\n",
    "                print(\"{} - Ping failed, backoff and retry\".format(dtnow))\n",
    "                time.sleep(3)\n",
    "                status = ping_addr(ip_address)\n",
    "                count += 1\n",
    "\n",
    "            if status != 0:\n",
    "                send_alert(\"{} monitor is not responding!\".format(device_name))\n",
    "                alert_count += 1\n",
    "                alert_active = True\n",
    "\n",
    "            time.sleep(30)\n",
    "\n",
    "        if alert_count >= 4:\n",
    "            dtnow = datetime.datetime.strftime(datetime.datetime.now(), \"%Y-%m-%d %H:%M\")\n",
    "            print(\"{} - Exceeded alert count, backing off for 4 hours\".format(dtnow))\n",
    "            time.sleep(4*60*60)\n",
    "            count = 0\n",
    "            alert_count = 0"
   ]
  },
  {
   "cell_type": "code",
   "execution_count": 17,
   "metadata": {},
   "outputs": [
    {
     "name": "stdout",
     "output_type": "stream",
     "text": [
      "2022-08-18 16:28 - ping to 10.0.2.217 OK\n",
      "2022-08-18 16:28 - ping to 10.0.2.217 OK\n",
      "2022-08-18 16:29 - ping to 10.0.2.217 OK\n",
      "2022-08-18 16:29 - ping to 10.0.2.217 OK\n",
      "2022-08-18 16:30 - ping to 10.0.2.217 OK\n",
      "2022-08-18 16:30 - ping to 10.0.2.217 OK\n",
      "2022-08-18 16:31 - no response from 10.0.2.217\n",
      "2022-08-18 16:31 - Ping failed, backoff and retry\n",
      "2022-08-18 16:31 - no response from 10.0.2.217\n",
      "2022-08-18 16:31 - Ping failed, backoff and retry\n",
      "2022-08-18 16:32 - no response from 10.0.2.217\n",
      "2022-08-18 16:32 - Ping failed, backoff and retry\n",
      "2022-08-18 16:32 - no response from 10.0.2.217\n",
      "2022-08-18 16:32 - Ping failed, backoff and retry\n",
      "2022-08-18 16:32 - no response from 10.0.2.217\n",
      "2022-08-18 16:32 - Ping failed, backoff and retry\n"
     ]
    },
    {
     "name": "stderr",
     "output_type": "stream",
     "text": [
      "<ipython-input-1-652a23ce8ae6>:31 - send_alert() 2022-08-18 16:32:  Host 10.0.2.217 is down!\n",
      "2022-08-18 16:32:  Host 10.0.2.217 is down!\n",
      "http_client.py:73 - request() POST Request: https://api.twilio.com/2010-04-01/Accounts/AC4ec8a19b2be6797eb5825903ff609d39/Messages.json\n",
      "POST Request: https://api.twilio.com/2010-04-01/Accounts/AC4ec8a19b2be6797eb5825903ff609d39/Messages.json\n",
      "http_client.py:75 - request() PAYLOAD: {'To': '13038182403', 'From': '12052933447', 'Body': '2022-08-18 16:32:  Host 10.0.2.217 is down!'}\n",
      "PAYLOAD: {'To': '13038182403', 'From': '12052933447', 'Body': '2022-08-18 16:32:  Host 10.0.2.217 is down!'}\n"
     ]
    },
    {
     "name": "stdout",
     "output_type": "stream",
     "text": [
      "2022-08-18 16:32 - no response from 10.0.2.217\n"
     ]
    },
    {
     "name": "stderr",
     "output_type": "stream",
     "text": [
      "http_client.py:91 - request() POST Response: 201 {\"body\": \"2022-08-18 16:32:  Host 10.0.2.217 is down!\", \"num_segments\": \"1\", \"direction\": \"outbound-api\", \"from\": \"+12052933447\", \"date_updated\": \"Thu, 18 Aug 2022 22:32:56 +0000\", \"price\": null, \"error_message\": null, \"uri\": \"/2010-04-01/Accounts/AC4ec8a19b2be6797eb5825903ff609d39/Messages/SMe1201cf5d44d736babc139571425df82.json\", \"account_sid\": \"AC4ec8a19b2be6797eb5825903ff609d39\", \"num_media\": \"0\", \"to\": \"+13038182403\", \"date_created\": \"Thu, 18 Aug 2022 22:32:56 +0000\", \"status\": \"queued\", \"sid\": \"SMe1201cf5d44d736babc139571425df82\", \"date_sent\": null, \"messaging_service_sid\": null, \"error_code\": null, \"price_unit\": \"USD\", \"api_version\": \"2010-04-01\", \"subresource_uris\": {\"media\": \"/2010-04-01/Accounts/AC4ec8a19b2be6797eb5825903ff609d39/Messages/SMe1201cf5d44d736babc139571425df82/Media.json\"}}\n",
      "POST Response: 201 {\"body\": \"2022-08-18 16:32:  Host 10.0.2.217 is down!\", \"num_segments\": \"1\", \"direction\": \"outbound-api\", \"from\": \"+12052933447\", \"date_updated\": \"Thu, 18 Aug 2022 22:32:56 +0000\", \"price\": null, \"error_message\": null, \"uri\": \"/2010-04-01/Accounts/AC4ec8a19b2be6797eb5825903ff609d39/Messages/SMe1201cf5d44d736babc139571425df82.json\", \"account_sid\": \"AC4ec8a19b2be6797eb5825903ff609d39\", \"num_media\": \"0\", \"to\": \"+13038182403\", \"date_created\": \"Thu, 18 Aug 2022 22:32:56 +0000\", \"status\": \"queued\", \"sid\": \"SMe1201cf5d44d736babc139571425df82\", \"date_sent\": null, \"messaging_service_sid\": null, \"error_code\": null, \"price_unit\": \"USD\", \"api_version\": \"2010-04-01\", \"subresource_uris\": {\"media\": \"/2010-04-01/Accounts/AC4ec8a19b2be6797eb5825903ff609d39/Messages/SMe1201cf5d44d736babc139571425df82/Media.json\"}}\n",
      "<ipython-input-1-652a23ce8ae6>:34 - send_alert() Attemped to send alert text.  Status:  queued\n",
      "Attemped to send alert text.  Status:  queued\n"
     ]
    },
    {
     "name": "stdout",
     "output_type": "stream",
     "text": [
      "2022-08-18 16:34 - no response from 10.0.2.217\n",
      "2022-08-18 16:34 - Ping failed, backoff and retry\n",
      "2022-08-18 16:34 - no response from 10.0.2.217\n",
      "2022-08-18 16:34 - Ping failed, backoff and retry\n",
      "2022-08-18 16:34 - no response from 10.0.2.217\n",
      "2022-08-18 16:34 - Ping failed, backoff and retry\n",
      "2022-08-18 16:34 - no response from 10.0.2.217\n",
      "2022-08-18 16:34 - Ping failed, backoff and retry\n",
      "2022-08-18 16:35 - ping to 10.0.2.217 OK\n"
     ]
    },
    {
     "name": "stderr",
     "output_type": "stream",
     "text": [
      "<ipython-input-1-652a23ce8ae6>:31 - send_alert() 2022-08-18 16:35:  Host 10.0.2.217 is back up\n",
      "2022-08-18 16:35:  Host 10.0.2.217 is back up\n",
      "http_client.py:73 - request() POST Request: https://api.twilio.com/2010-04-01/Accounts/AC4ec8a19b2be6797eb5825903ff609d39/Messages.json\n",
      "POST Request: https://api.twilio.com/2010-04-01/Accounts/AC4ec8a19b2be6797eb5825903ff609d39/Messages.json\n",
      "http_client.py:75 - request() PAYLOAD: {'To': '13038182403', 'From': '12052933447', 'Body': '2022-08-18 16:35:  Host 10.0.2.217 is back up'}\n",
      "PAYLOAD: {'To': '13038182403', 'From': '12052933447', 'Body': '2022-08-18 16:35:  Host 10.0.2.217 is back up'}\n"
     ]
    },
    {
     "name": "stdout",
     "output_type": "stream",
     "text": [
      "2022-08-18 16:35 - ping to 10.0.2.217 OK\n",
      "2022-08-18 16:35 - Host back up\n"
     ]
    },
    {
     "name": "stderr",
     "output_type": "stream",
     "text": [
      "http_client.py:91 - request() POST Response: 201 {\"body\": \"2022-08-18 16:35:  Host 10.0.2.217 is back up\", \"num_segments\": \"1\", \"direction\": \"outbound-api\", \"from\": \"+12052933447\", \"date_updated\": \"Thu, 18 Aug 2022 22:35:35 +0000\", \"price\": null, \"error_message\": null, \"uri\": \"/2010-04-01/Accounts/AC4ec8a19b2be6797eb5825903ff609d39/Messages/SM37d9646eb1996caccd4e18efed088b38.json\", \"account_sid\": \"AC4ec8a19b2be6797eb5825903ff609d39\", \"num_media\": \"0\", \"to\": \"+13038182403\", \"date_created\": \"Thu, 18 Aug 2022 22:35:35 +0000\", \"status\": \"queued\", \"sid\": \"SM37d9646eb1996caccd4e18efed088b38\", \"date_sent\": null, \"messaging_service_sid\": null, \"error_code\": null, \"price_unit\": \"USD\", \"api_version\": \"2010-04-01\", \"subresource_uris\": {\"media\": \"/2010-04-01/Accounts/AC4ec8a19b2be6797eb5825903ff609d39/Messages/SM37d9646eb1996caccd4e18efed088b38/Media.json\"}}\n",
      "POST Response: 201 {\"body\": \"2022-08-18 16:35:  Host 10.0.2.217 is back up\", \"num_segments\": \"1\", \"direction\": \"outbound-api\", \"from\": \"+12052933447\", \"date_updated\": \"Thu, 18 Aug 2022 22:35:35 +0000\", \"price\": null, \"error_message\": null, \"uri\": \"/2010-04-01/Accounts/AC4ec8a19b2be6797eb5825903ff609d39/Messages/SM37d9646eb1996caccd4e18efed088b38.json\", \"account_sid\": \"AC4ec8a19b2be6797eb5825903ff609d39\", \"num_media\": \"0\", \"to\": \"+13038182403\", \"date_created\": \"Thu, 18 Aug 2022 22:35:35 +0000\", \"status\": \"queued\", \"sid\": \"SM37d9646eb1996caccd4e18efed088b38\", \"date_sent\": null, \"messaging_service_sid\": null, \"error_code\": null, \"price_unit\": \"USD\", \"api_version\": \"2010-04-01\", \"subresource_uris\": {\"media\": \"/2010-04-01/Accounts/AC4ec8a19b2be6797eb5825903ff609d39/Messages/SM37d9646eb1996caccd4e18efed088b38/Media.json\"}}\n",
      "<ipython-input-1-652a23ce8ae6>:34 - send_alert() Attemped to send alert text.  Status:  queued\n",
      "Attemped to send alert text.  Status:  queued\n"
     ]
    },
    {
     "name": "stdout",
     "output_type": "stream",
     "text": [
      "2022-08-18 16:36 - ping to 10.0.2.217 OK\n"
     ]
    },
    {
     "ename": "KeyboardInterrupt",
     "evalue": "",
     "output_type": "error",
     "traceback": [
      "\u001b[0;31m---------------------------------------------------------------------------\u001b[0m",
      "\u001b[0;31mKeyboardInterrupt\u001b[0m                         Traceback (most recent call last)",
      "\u001b[0;32m<ipython-input-17-789b78639456>\u001b[0m in \u001b[0;36m<module>\u001b[0;34m\u001b[0m\n\u001b[0;32m----> 1\u001b[0;31m \u001b[0mmain\u001b[0m\u001b[0;34m(\u001b[0m\u001b[0mip_address\u001b[0m\u001b[0;34m,\u001b[0m \u001b[0mmac_address\u001b[0m\u001b[0;34m)\u001b[0m\u001b[0;34m\u001b[0m\u001b[0;34m\u001b[0m\u001b[0m\n\u001b[0m",
      "\u001b[0;32m<ipython-input-16-9a3375644be9>\u001b[0m in \u001b[0;36mmain\u001b[0;34m(ip_address, mac_address)\u001b[0m\n\u001b[1;32m     28\u001b[0m                 \u001b[0malert_active\u001b[0m \u001b[0;34m=\u001b[0m \u001b[0;32mTrue\u001b[0m\u001b[0;34m\u001b[0m\u001b[0;34m\u001b[0m\u001b[0m\n\u001b[1;32m     29\u001b[0m \u001b[0;34m\u001b[0m\u001b[0m\n\u001b[0;32m---> 30\u001b[0;31m             \u001b[0mtime\u001b[0m\u001b[0;34m.\u001b[0m\u001b[0msleep\u001b[0m\u001b[0;34m(\u001b[0m\u001b[0;36m30\u001b[0m\u001b[0;34m)\u001b[0m\u001b[0;34m\u001b[0m\u001b[0;34m\u001b[0m\u001b[0m\n\u001b[0m\u001b[1;32m     31\u001b[0m \u001b[0;34m\u001b[0m\u001b[0m\n\u001b[1;32m     32\u001b[0m         \u001b[0;32mif\u001b[0m \u001b[0malert_count\u001b[0m \u001b[0;34m>=\u001b[0m \u001b[0;36m4\u001b[0m\u001b[0;34m:\u001b[0m\u001b[0;34m\u001b[0m\u001b[0;34m\u001b[0m\u001b[0m\n",
      "\u001b[0;31mKeyboardInterrupt\u001b[0m: "
     ]
    }
   ],
   "source": [
    "main(ip_address, mac_address)"
   ]
  },
  {
   "cell_type": "code",
   "execution_count": 10,
   "metadata": {},
   "outputs": [
    {
     "name": "stdout",
     "output_type": "stream",
     "text": [
      "2022-08-18 16:19 - ping to 10.0.2.217 OK\n",
      "2022-08-18 16:19 - ping to 10.0.2.217 OK\n"
     ]
    }
   ],
   "source": [
    "addr = address('10.0.2.217', mac_address)\n",
    "alert_count = 0\n",
    "\n",
    "status = ping_addr(addr.get_ip_address())\n",
    "count = 0\n"
   ]
  },
  {
   "cell_type": "code",
   "execution_count": 11,
   "metadata": {},
   "outputs": [
    {
     "data": {
      "text/plain": [
       "0"
      ]
     },
     "execution_count": 11,
     "metadata": {},
     "output_type": "execute_result"
    }
   ],
   "source": [
    "status"
   ]
  },
  {
   "cell_type": "code",
   "execution_count": null,
   "metadata": {},
   "outputs": [],
   "source": []
  },
  {
   "cell_type": "code",
   "execution_count": 35,
   "metadata": {},
   "outputs": [],
   "source": [
    "def get_arp_table():\n",
    "    ping_addr('255.255.255.255')\n",
    "    pid = subprocess.Popen([\"arp\", \"-an\"], stdout=subprocess.PIPE)\n",
    "    s = pid.communicate()[0]\n",
    "    output = str(s).lower()\n",
    "    output_list = []\n",
    "    for output2 in output.split('?'):\n",
    "        try:\n",
    "            output_list.append(re.search(\"\\(([0-9]+\\.[0-9]+\\.[0-9]+\\.[0-9]+)\\) at ([a-f0-9]{2}:[a-f0-9]{2}:[a-f0-9]{2}:[a-f0-9]{2}:[a-f0-9]{2}:[a-f0-9]{2})\", output2).groups())\n",
    "        except:\n",
    "            pass\n",
    "    return(output_list)"
   ]
  },
  {
   "cell_type": "code",
   "execution_count": 36,
   "metadata": {},
   "outputs": [
    {
     "name": "stdout",
     "output_type": "stream",
     "text": [
      "2022-08-15 08:11 - ping to 255.255.255.255 OK\n"
     ]
    }
   ],
   "source": [
    "output_list = get_arp_table()"
   ]
  },
  {
   "cell_type": "code",
   "execution_count": 37,
   "metadata": {},
   "outputs": [
    {
     "data": {
      "text/plain": [
       "[('10.0.2.1', 'd4:8c:b5:ac:98:b6'),\n",
       " ('10.0.2.14', 'dc:a6:32:4d:df:18'),\n",
       " ('10.0.2.157', 'ac:ae:19:a4:55:fd'),\n",
       " ('10.0.2.158', 'b8:27:eb:95:68:c3'),\n",
       " ('10.0.2.161', '30:fd:38:b0:22:da'),\n",
       " ('10.0.2.166', '2c:b4:3a:1e:1f:86'),\n",
       " ('10.0.2.182', 'd0:4d:2c:3a:8a:5d'),\n",
       " ('10.0.2.183', '2c:b4:3a:26:32:64'),\n",
       " ('10.0.2.186', 'fe:ba:99:ef:40:93'),\n",
       " ('10.0.2.187', '5c:52:1e:98:1c:d2'),\n",
       " ('10.0.2.188', 'aa:11:dc:74:8d:86'),\n",
       " ('10.0.2.204', '7c:bb:8a:f4:f2:b1'),\n",
       " ('10.0.2.214', '5c:52:30:9a:73:ed'),\n",
       " ('10.0.2.255', 'ff:ff:ff:ff:ff:ff'),\n",
       " ('10.0.2.255', 'ff:ff:ff:ff:ff:ff'),\n",
       " ('169.254.255.255', 'd4:8c:b5:ac:98:b6'),\n",
       " ('255.255.255.255', 'ff:ff:ff:ff:ff:ff')]"
      ]
     },
     "execution_count": 37,
     "metadata": {},
     "output_type": "execute_result"
    }
   ],
   "source": [
    "output_list"
   ]
  },
  {
   "cell_type": "code",
   "execution_count": 39,
   "metadata": {},
   "outputs": [
    {
     "name": "stdout",
     "output_type": "stream",
     "text": [
      "2022-08-15 08:15 - ping to 10.0.2.255 OK\n",
      "2022-08-15 08:15 - ping to 255.255.255.255 OK\n"
     ]
    },
    {
     "data": {
      "text/plain": [
       "[('10.0.2.0', 'ff:ff:ff:ff:ff:ff'),\n",
       " ('10.0.2.1', 'd4:8c:b5:ac:98:b6'),\n",
       " ('10.0.2.14', 'dc:a6:32:4d:df:18'),\n",
       " ('10.0.2.152', '58:ac:78:de:9c:40'),\n",
       " ('10.0.2.153', 'cc:7f:75:aa:47:40'),\n",
       " ('10.0.2.157', 'ac:ae:19:a4:55:fd'),\n",
       " ('10.0.2.158', 'b8:27:eb:95:68:c3'),\n",
       " ('10.0.2.161', '30:fd:38:b0:22:da'),\n",
       " ('10.0.2.166', '2c:b4:3a:1e:1f:86'),\n",
       " ('10.0.2.182', 'd0:4d:2c:3a:8a:5d'),\n",
       " ('10.0.2.183', '2c:b4:3a:26:32:64'),\n",
       " ('10.0.2.185', '44:61:32:46:c1:ff'),\n",
       " ('10.0.2.186', 'fe:ba:99:ef:40:93'),\n",
       " ('10.0.2.187', '5c:52:1e:98:1c:d2'),\n",
       " ('10.0.2.188', 'aa:11:dc:74:8d:86'),\n",
       " ('10.0.2.191', 'e4:ce:8f:67:67:e8'),\n",
       " ('10.0.2.196', '44:d2:44:64:8e:66'),\n",
       " ('10.0.2.204', '7c:bb:8a:f4:f2:b1'),\n",
       " ('10.0.2.206', '58:ef:68:ed:51:ed'),\n",
       " ('10.0.2.214', '5c:52:30:9a:73:ed'),\n",
       " ('10.0.2.217', '58:ef:68:ea:54:2d'),\n",
       " ('10.0.2.255', 'ff:ff:ff:ff:ff:ff'),\n",
       " ('169.254.255.255', 'd4:8c:b5:ac:98:b6'),\n",
       " ('255.255.255.255', 'ff:ff:ff:ff:ff:ff')]"
      ]
     },
     "execution_count": 39,
     "metadata": {},
     "output_type": "execute_result"
    }
   ],
   "source": [
    "ping_addr('10.0.2.255')\n",
    "get_arp_table()"
   ]
  },
  {
   "cell_type": "code",
   "execution_count": 58,
   "metadata": {},
   "outputs": [
    {
     "ename": "CalledProcessError",
     "evalue": "Command '['ping', '-c1', '10.0.2.7']' returned non-zero exit status 2.",
     "output_type": "error",
     "traceback": [
      "\u001b[0;31m---------------------------------------------------------------------------\u001b[0m",
      "\u001b[0;31mCalledProcessError\u001b[0m                        Traceback (most recent call last)",
      "\u001b[0;32m<ipython-input-58-bc11031b9c2d>\u001b[0m in \u001b[0;36m<module>\u001b[0;34m\u001b[0m\n\u001b[0;32m----> 1\u001b[0;31m \u001b[0mping_one\u001b[0m\u001b[0;34m(\u001b[0m\u001b[0mip_address\u001b[0m\u001b[0;34m)\u001b[0m\u001b[0;34m\u001b[0m\u001b[0;34m\u001b[0m\u001b[0m\n\u001b[0m",
      "\u001b[0;32m<ipython-input-57-e498e1bd1a9b>\u001b[0m in \u001b[0;36mping_one\u001b[0;34m(ip_address)\u001b[0m\n\u001b[1;32m      1\u001b[0m \u001b[0;32mdef\u001b[0m \u001b[0mping_one\u001b[0m\u001b[0;34m(\u001b[0m\u001b[0mip_address\u001b[0m\u001b[0;34m)\u001b[0m\u001b[0;34m:\u001b[0m\u001b[0;34m\u001b[0m\u001b[0;34m\u001b[0m\u001b[0m\n\u001b[1;32m      2\u001b[0m     \u001b[0mDEVNULL\u001b[0m \u001b[0;34m=\u001b[0m \u001b[0mopen\u001b[0m\u001b[0;34m(\u001b[0m\u001b[0mos\u001b[0m\u001b[0;34m.\u001b[0m\u001b[0mdevnull\u001b[0m\u001b[0;34m,\u001b[0m\u001b[0;34m'w'\u001b[0m\u001b[0;34m)\u001b[0m\u001b[0;34m\u001b[0m\u001b[0;34m\u001b[0m\u001b[0m\n\u001b[0;32m----> 3\u001b[0;31m     \u001b[0msubprocess\u001b[0m\u001b[0;34m.\u001b[0m\u001b[0mcheck_call\u001b[0m\u001b[0;34m(\u001b[0m\u001b[0;34m[\u001b[0m\u001b[0;34m'ping'\u001b[0m\u001b[0;34m,\u001b[0m\u001b[0;34m'-c1'\u001b[0m\u001b[0;34m,\u001b[0m\u001b[0mip_address\u001b[0m\u001b[0;34m]\u001b[0m\u001b[0;34m,\u001b[0m \u001b[0mstdout\u001b[0m\u001b[0;34m=\u001b[0m\u001b[0mDEVNULL\u001b[0m\u001b[0;34m)\u001b[0m\u001b[0;34m\u001b[0m\u001b[0;34m\u001b[0m\u001b[0m\n\u001b[0m\u001b[1;32m      4\u001b[0m \u001b[0;34m\u001b[0m\u001b[0m\n",
      "\u001b[0;32m/Library/Frameworks/Python.framework/Versions/3.8/lib/python3.8/subprocess.py\u001b[0m in \u001b[0;36mcheck_call\u001b[0;34m(*popenargs, **kwargs)\u001b[0m\n\u001b[1;32m    362\u001b[0m         \u001b[0;32mif\u001b[0m \u001b[0mcmd\u001b[0m \u001b[0;32mis\u001b[0m \u001b[0;32mNone\u001b[0m\u001b[0;34m:\u001b[0m\u001b[0;34m\u001b[0m\u001b[0;34m\u001b[0m\u001b[0m\n\u001b[1;32m    363\u001b[0m             \u001b[0mcmd\u001b[0m \u001b[0;34m=\u001b[0m \u001b[0mpopenargs\u001b[0m\u001b[0;34m[\u001b[0m\u001b[0;36m0\u001b[0m\u001b[0;34m]\u001b[0m\u001b[0;34m\u001b[0m\u001b[0;34m\u001b[0m\u001b[0m\n\u001b[0;32m--> 364\u001b[0;31m         \u001b[0;32mraise\u001b[0m \u001b[0mCalledProcessError\u001b[0m\u001b[0;34m(\u001b[0m\u001b[0mretcode\u001b[0m\u001b[0;34m,\u001b[0m \u001b[0mcmd\u001b[0m\u001b[0;34m)\u001b[0m\u001b[0;34m\u001b[0m\u001b[0;34m\u001b[0m\u001b[0m\n\u001b[0m\u001b[1;32m    365\u001b[0m     \u001b[0;32mreturn\u001b[0m \u001b[0;36m0\u001b[0m\u001b[0;34m\u001b[0m\u001b[0;34m\u001b[0m\u001b[0m\n\u001b[1;32m    366\u001b[0m \u001b[0;34m\u001b[0m\u001b[0m\n",
      "\u001b[0;31mCalledProcessError\u001b[0m: Command '['ping', '-c1', '10.0.2.7']' returned non-zero exit status 2."
     ]
    }
   ],
   "source": []
  },
  {
   "cell_type": "code",
   "execution_count": 21,
   "metadata": {},
   "outputs": [
    {
     "name": "stdout",
     "output_type": "stream",
     "text": [
      "10.0.2.1\n",
      "10.0.2.2\n",
      "10.0.2.3\n",
      "10.0.2.4\n",
      "10.0.2.5\n",
      "10.0.2.6\n",
      "10.0.2.7\n",
      "10.0.2.8\n",
      "10.0.2.9\n",
      "10.0.2.10\n",
      "10.0.2.11\n",
      "10.0.2.12\n",
      "10.0.2.13\n",
      "10.0.2.14\n",
      "10.0.2.15\n",
      "10.0.2.16\n",
      "10.0.2.17\n",
      "10.0.2.18\n",
      "10.0.2.19\n",
      "10.0.2.20\n",
      "10.0.2.21\n",
      "10.0.2.22\n",
      "10.0.2.23\n",
      "10.0.2.24\n",
      "10.0.2.25\n",
      "10.0.2.26\n",
      "10.0.2.27\n",
      "10.0.2.28\n",
      "10.0.2.29\n",
      "10.0.2.30\n",
      "10.0.2.31\n",
      "10.0.2.32\n",
      "10.0.2.33\n",
      "10.0.2.34\n",
      "10.0.2.35\n",
      "10.0.2.36\n",
      "10.0.2.37\n",
      "10.0.2.38\n",
      "10.0.2.39\n",
      "10.0.2.40\n",
      "10.0.2.41\n",
      "10.0.2.42\n",
      "10.0.2.43\n",
      "10.0.2.44\n",
      "10.0.2.45\n",
      "10.0.2.46\n",
      "10.0.2.47\n",
      "10.0.2.48\n",
      "10.0.2.49\n",
      "10.0.2.50\n",
      "10.0.2.51\n",
      "10.0.2.52\n",
      "10.0.2.53\n",
      "10.0.2.54\n",
      "10.0.2.55\n",
      "10.0.2.56\n",
      "10.0.2.57\n",
      "10.0.2.58\n",
      "10.0.2.59\n",
      "10.0.2.60\n",
      "10.0.2.61\n",
      "10.0.2.62\n",
      "10.0.2.63\n",
      "10.0.2.64\n",
      "10.0.2.65\n",
      "10.0.2.66\n",
      "10.0.2.67\n",
      "10.0.2.68\n",
      "10.0.2.69\n",
      "10.0.2.70\n",
      "10.0.2.71\n",
      "10.0.2.72\n",
      "10.0.2.73\n",
      "10.0.2.74\n",
      "10.0.2.75\n",
      "10.0.2.76\n",
      "10.0.2.77\n",
      "10.0.2.78\n",
      "10.0.2.79\n",
      "10.0.2.80\n",
      "10.0.2.81\n",
      "10.0.2.82\n",
      "10.0.2.83\n",
      "10.0.2.84\n",
      "10.0.2.85\n",
      "10.0.2.86\n",
      "10.0.2.87\n",
      "10.0.2.88\n",
      "10.0.2.89\n",
      "10.0.2.90\n",
      "10.0.2.91\n",
      "10.0.2.92\n",
      "10.0.2.93\n",
      "10.0.2.94\n",
      "10.0.2.95\n",
      "10.0.2.96\n",
      "10.0.2.97\n",
      "10.0.2.98\n",
      "10.0.2.99\n",
      "10.0.2.100\n",
      "10.0.2.101\n",
      "10.0.2.102\n",
      "10.0.2.103\n",
      "10.0.2.104\n",
      "10.0.2.105\n",
      "10.0.2.106\n",
      "10.0.2.107\n",
      "10.0.2.108\n",
      "10.0.2.109\n",
      "10.0.2.110\n",
      "10.0.2.111\n",
      "10.0.2.112\n",
      "10.0.2.113\n",
      "10.0.2.114\n",
      "10.0.2.115\n",
      "10.0.2.116\n",
      "10.0.2.117\n",
      "10.0.2.118\n",
      "10.0.2.119\n",
      "10.0.2.120\n",
      "10.0.2.121\n",
      "10.0.2.122\n",
      "10.0.2.123\n",
      "10.0.2.124\n",
      "10.0.2.125\n",
      "10.0.2.126\n",
      "10.0.2.127\n",
      "10.0.2.128\n",
      "10.0.2.129\n",
      "10.0.2.130\n",
      "10.0.2.131\n",
      "10.0.2.132\n",
      "10.0.2.133\n",
      "10.0.2.134\n",
      "10.0.2.135\n",
      "10.0.2.136\n",
      "10.0.2.137\n",
      "10.0.2.138\n",
      "10.0.2.139\n",
      "10.0.2.140\n",
      "10.0.2.141\n",
      "10.0.2.142\n",
      "10.0.2.143\n",
      "10.0.2.144\n",
      "10.0.2.145\n",
      "10.0.2.146\n",
      "10.0.2.147\n",
      "10.0.2.148\n",
      "10.0.2.149\n",
      "10.0.2.150\n",
      "10.0.2.151\n",
      "10.0.2.152\n",
      "10.0.2.153\n",
      "10.0.2.154\n",
      "10.0.2.155\n",
      "10.0.2.156\n",
      "10.0.2.157\n",
      "10.0.2.158\n",
      "10.0.2.159\n",
      "10.0.2.160\n",
      "10.0.2.161\n",
      "10.0.2.162\n",
      "10.0.2.163\n",
      "10.0.2.164\n",
      "10.0.2.165\n",
      "10.0.2.166\n",
      "10.0.2.167\n",
      "10.0.2.168\n",
      "10.0.2.169\n",
      "10.0.2.170\n",
      "10.0.2.171\n",
      "10.0.2.172\n",
      "10.0.2.173\n",
      "10.0.2.174\n",
      "10.0.2.175\n",
      "10.0.2.176\n",
      "10.0.2.177\n",
      "10.0.2.178\n",
      "10.0.2.179\n",
      "10.0.2.180\n",
      "10.0.2.181\n",
      "10.0.2.182\n",
      "10.0.2.183\n",
      "10.0.2.184\n",
      "10.0.2.185\n",
      "10.0.2.186\n",
      "10.0.2.187\n",
      "10.0.2.188\n",
      "10.0.2.189\n",
      "10.0.2.190\n",
      "10.0.2.191\n",
      "10.0.2.192\n",
      "10.0.2.193\n",
      "10.0.2.194\n",
      "10.0.2.195\n",
      "10.0.2.196\n",
      "10.0.2.197\n",
      "10.0.2.198\n",
      "10.0.2.199\n",
      "10.0.2.200\n",
      "10.0.2.201\n",
      "10.0.2.202\n",
      "10.0.2.203\n",
      "10.0.2.204\n",
      "10.0.2.205\n",
      "10.0.2.206\n",
      "10.0.2.207\n",
      "10.0.2.208\n",
      "10.0.2.209\n",
      "10.0.2.210\n",
      "10.0.2.211\n",
      "10.0.2.212\n",
      "10.0.2.213\n",
      "10.0.2.214\n",
      "10.0.2.215\n",
      "10.0.2.216\n",
      "10.0.2.217\n",
      "10.0.2.218\n",
      "10.0.2.219\n",
      "10.0.2.220\n",
      "10.0.2.221\n",
      "10.0.2.222\n",
      "10.0.2.223\n",
      "10.0.2.224\n",
      "10.0.2.225\n",
      "10.0.2.226\n",
      "10.0.2.227\n",
      "10.0.2.228\n",
      "10.0.2.229\n",
      "10.0.2.230\n",
      "10.0.2.231\n",
      "10.0.2.232\n",
      "10.0.2.233\n",
      "10.0.2.234\n",
      "10.0.2.235\n",
      "10.0.2.236\n",
      "10.0.2.237\n",
      "10.0.2.238\n",
      "10.0.2.239\n",
      "10.0.2.240\n",
      "10.0.2.241\n",
      "10.0.2.242\n",
      "10.0.2.243\n",
      "10.0.2.244\n",
      "10.0.2.245\n",
      "10.0.2.246\n",
      "10.0.2.247\n",
      "10.0.2.248\n",
      "10.0.2.249\n",
      "10.0.2.250\n",
      "10.0.2.251\n",
      "10.0.2.252\n",
      "10.0.2.253\n",
      "10.0.2.254\n"
     ]
    }
   ],
   "source": [
    "\n",
    "    "
   ]
  },
  {
   "cell_type": "code",
   "execution_count": 59,
   "metadata": {
    "collapsed": true,
    "jupyter": {
     "outputs_hidden": true
    }
   },
   "outputs": [
    {
     "ename": "KeyboardInterrupt",
     "evalue": "",
     "output_type": "error",
     "traceback": [
      "\u001b[0;31m---------------------------------------------------------------------------\u001b[0m",
      "\u001b[0;31mKeyboardInterrupt\u001b[0m                         Traceback (most recent call last)",
      "\u001b[0;32m<ipython-input-59-29350e3657a8>\u001b[0m in \u001b[0;36m<module>\u001b[0;34m\u001b[0m\n\u001b[0;32m----> 1\u001b[0;31m \u001b[0msubprocess\u001b[0m\u001b[0;34m.\u001b[0m\u001b[0mcall\u001b[0m\u001b[0;34m(\u001b[0m\u001b[0;34m[\u001b[0m\u001b[0;34m'nmap'\u001b[0m\u001b[0;34m,\u001b[0m \u001b[0;34m'-sp'\u001b[0m\u001b[0;34m,\u001b[0m \u001b[0;34m'-n'\u001b[0m\u001b[0;34m,\u001b[0m \u001b[0;34m'10.0.2.0/24'\u001b[0m\u001b[0;34m]\u001b[0m\u001b[0;34m)\u001b[0m\u001b[0;34m\u001b[0m\u001b[0;34m\u001b[0m\u001b[0m\n\u001b[0m",
      "\u001b[0;32m/Library/Frameworks/Python.framework/Versions/3.8/lib/python3.8/subprocess.py\u001b[0m in \u001b[0;36mcall\u001b[0;34m(timeout, *popenargs, **kwargs)\u001b[0m\n\u001b[1;32m    340\u001b[0m     \u001b[0;32mwith\u001b[0m \u001b[0mPopen\u001b[0m\u001b[0;34m(\u001b[0m\u001b[0;34m*\u001b[0m\u001b[0mpopenargs\u001b[0m\u001b[0;34m,\u001b[0m \u001b[0;34m**\u001b[0m\u001b[0mkwargs\u001b[0m\u001b[0;34m)\u001b[0m \u001b[0;32mas\u001b[0m \u001b[0mp\u001b[0m\u001b[0;34m:\u001b[0m\u001b[0;34m\u001b[0m\u001b[0;34m\u001b[0m\u001b[0m\n\u001b[1;32m    341\u001b[0m         \u001b[0;32mtry\u001b[0m\u001b[0;34m:\u001b[0m\u001b[0;34m\u001b[0m\u001b[0;34m\u001b[0m\u001b[0m\n\u001b[0;32m--> 342\u001b[0;31m             \u001b[0;32mreturn\u001b[0m \u001b[0mp\u001b[0m\u001b[0;34m.\u001b[0m\u001b[0mwait\u001b[0m\u001b[0;34m(\u001b[0m\u001b[0mtimeout\u001b[0m\u001b[0;34m=\u001b[0m\u001b[0mtimeout\u001b[0m\u001b[0;34m)\u001b[0m\u001b[0;34m\u001b[0m\u001b[0;34m\u001b[0m\u001b[0m\n\u001b[0m\u001b[1;32m    343\u001b[0m         \u001b[0;32mexcept\u001b[0m\u001b[0;34m:\u001b[0m  \u001b[0;31m# Including KeyboardInterrupt, wait handled that.\u001b[0m\u001b[0;34m\u001b[0m\u001b[0;34m\u001b[0m\u001b[0m\n\u001b[1;32m    344\u001b[0m             \u001b[0mp\u001b[0m\u001b[0;34m.\u001b[0m\u001b[0mkill\u001b[0m\u001b[0;34m(\u001b[0m\u001b[0;34m)\u001b[0m\u001b[0;34m\u001b[0m\u001b[0;34m\u001b[0m\u001b[0m\n",
      "\u001b[0;32m/Library/Frameworks/Python.framework/Versions/3.8/lib/python3.8/subprocess.py\u001b[0m in \u001b[0;36mwait\u001b[0;34m(self, timeout)\u001b[0m\n\u001b[1;32m   1077\u001b[0m             \u001b[0mendtime\u001b[0m \u001b[0;34m=\u001b[0m \u001b[0m_time\u001b[0m\u001b[0;34m(\u001b[0m\u001b[0;34m)\u001b[0m \u001b[0;34m+\u001b[0m \u001b[0mtimeout\u001b[0m\u001b[0;34m\u001b[0m\u001b[0;34m\u001b[0m\u001b[0m\n\u001b[1;32m   1078\u001b[0m         \u001b[0;32mtry\u001b[0m\u001b[0;34m:\u001b[0m\u001b[0;34m\u001b[0m\u001b[0;34m\u001b[0m\u001b[0m\n\u001b[0;32m-> 1079\u001b[0;31m             \u001b[0;32mreturn\u001b[0m \u001b[0mself\u001b[0m\u001b[0;34m.\u001b[0m\u001b[0m_wait\u001b[0m\u001b[0;34m(\u001b[0m\u001b[0mtimeout\u001b[0m\u001b[0;34m=\u001b[0m\u001b[0mtimeout\u001b[0m\u001b[0;34m)\u001b[0m\u001b[0;34m\u001b[0m\u001b[0;34m\u001b[0m\u001b[0m\n\u001b[0m\u001b[1;32m   1080\u001b[0m         \u001b[0;32mexcept\u001b[0m \u001b[0mKeyboardInterrupt\u001b[0m\u001b[0;34m:\u001b[0m\u001b[0;34m\u001b[0m\u001b[0;34m\u001b[0m\u001b[0m\n\u001b[1;32m   1081\u001b[0m             \u001b[0;31m# https://bugs.python.org/issue25942\u001b[0m\u001b[0;34m\u001b[0m\u001b[0;34m\u001b[0m\u001b[0;34m\u001b[0m\u001b[0m\n",
      "\u001b[0;32m/Library/Frameworks/Python.framework/Versions/3.8/lib/python3.8/subprocess.py\u001b[0m in \u001b[0;36m_wait\u001b[0;34m(self, timeout)\u001b[0m\n\u001b[1;32m   1802\u001b[0m                         \u001b[0;32mif\u001b[0m \u001b[0mself\u001b[0m\u001b[0;34m.\u001b[0m\u001b[0mreturncode\u001b[0m \u001b[0;32mis\u001b[0m \u001b[0;32mnot\u001b[0m \u001b[0;32mNone\u001b[0m\u001b[0;34m:\u001b[0m\u001b[0;34m\u001b[0m\u001b[0;34m\u001b[0m\u001b[0m\n\u001b[1;32m   1803\u001b[0m                             \u001b[0;32mbreak\u001b[0m  \u001b[0;31m# Another thread waited.\u001b[0m\u001b[0;34m\u001b[0m\u001b[0;34m\u001b[0m\u001b[0m\n\u001b[0;32m-> 1804\u001b[0;31m                         \u001b[0;34m(\u001b[0m\u001b[0mpid\u001b[0m\u001b[0;34m,\u001b[0m \u001b[0msts\u001b[0m\u001b[0;34m)\u001b[0m \u001b[0;34m=\u001b[0m \u001b[0mself\u001b[0m\u001b[0;34m.\u001b[0m\u001b[0m_try_wait\u001b[0m\u001b[0;34m(\u001b[0m\u001b[0;36m0\u001b[0m\u001b[0;34m)\u001b[0m\u001b[0;34m\u001b[0m\u001b[0;34m\u001b[0m\u001b[0m\n\u001b[0m\u001b[1;32m   1805\u001b[0m                         \u001b[0;31m# Check the pid and loop as waitpid has been known to\u001b[0m\u001b[0;34m\u001b[0m\u001b[0;34m\u001b[0m\u001b[0;34m\u001b[0m\u001b[0m\n\u001b[1;32m   1806\u001b[0m                         \u001b[0;31m# return 0 even without WNOHANG in odd situations.\u001b[0m\u001b[0;34m\u001b[0m\u001b[0;34m\u001b[0m\u001b[0;34m\u001b[0m\u001b[0m\n",
      "\u001b[0;32m/Library/Frameworks/Python.framework/Versions/3.8/lib/python3.8/subprocess.py\u001b[0m in \u001b[0;36m_try_wait\u001b[0;34m(self, wait_flags)\u001b[0m\n\u001b[1;32m   1760\u001b[0m             \u001b[0;34m\"\"\"All callers to this function MUST hold self._waitpid_lock.\"\"\"\u001b[0m\u001b[0;34m\u001b[0m\u001b[0;34m\u001b[0m\u001b[0m\n\u001b[1;32m   1761\u001b[0m             \u001b[0;32mtry\u001b[0m\u001b[0;34m:\u001b[0m\u001b[0;34m\u001b[0m\u001b[0;34m\u001b[0m\u001b[0m\n\u001b[0;32m-> 1762\u001b[0;31m                 \u001b[0;34m(\u001b[0m\u001b[0mpid\u001b[0m\u001b[0;34m,\u001b[0m \u001b[0msts\u001b[0m\u001b[0;34m)\u001b[0m \u001b[0;34m=\u001b[0m \u001b[0mos\u001b[0m\u001b[0;34m.\u001b[0m\u001b[0mwaitpid\u001b[0m\u001b[0;34m(\u001b[0m\u001b[0mself\u001b[0m\u001b[0;34m.\u001b[0m\u001b[0mpid\u001b[0m\u001b[0;34m,\u001b[0m \u001b[0mwait_flags\u001b[0m\u001b[0;34m)\u001b[0m\u001b[0;34m\u001b[0m\u001b[0;34m\u001b[0m\u001b[0m\n\u001b[0m\u001b[1;32m   1763\u001b[0m             \u001b[0;32mexcept\u001b[0m \u001b[0mChildProcessError\u001b[0m\u001b[0;34m:\u001b[0m\u001b[0;34m\u001b[0m\u001b[0;34m\u001b[0m\u001b[0m\n\u001b[1;32m   1764\u001b[0m                 \u001b[0;31m# This happens if SIGCLD is set to be ignored or waiting\u001b[0m\u001b[0;34m\u001b[0m\u001b[0;34m\u001b[0m\u001b[0;34m\u001b[0m\u001b[0m\n",
      "\u001b[0;31mKeyboardInterrupt\u001b[0m: "
     ]
    }
   ],
   "source": [
    "subprocess.call(['nmap', '-sp', '-n', '10.0.2.0/24'])"
   ]
  },
  {
   "cell_type": "code",
   "execution_count": 22,
   "metadata": {},
   "outputs": [
    {
     "ename": "NameError",
     "evalue": "name 'get_arp_table' is not defined",
     "output_type": "error",
     "traceback": [
      "\u001b[0;31m---------------------------------------------------------------------------\u001b[0m",
      "\u001b[0;31mNameError\u001b[0m                                 Traceback (most recent call last)",
      "\u001b[0;32m<ipython-input-22-a9fd8df1b1d4>\u001b[0m in \u001b[0;36m<module>\u001b[0;34m\u001b[0m\n\u001b[0;32m----> 1\u001b[0;31m \u001b[0mget_arp_table\u001b[0m\u001b[0;34m(\u001b[0m\u001b[0;34m)\u001b[0m\u001b[0;34m\u001b[0m\u001b[0;34m\u001b[0m\u001b[0m\n\u001b[0m",
      "\u001b[0;31mNameError\u001b[0m: name 'get_arp_table' is not defined"
     ]
    }
   ],
   "source": [
    "get_arp_table()"
   ]
  },
  {
   "cell_type": "code",
   "execution_count": null,
   "metadata": {},
   "outputs": [],
   "source": []
  },
  {
   "cell_type": "code",
   "execution_count": null,
   "metadata": {},
   "outputs": [],
   "source": []
  },
  {
   "cell_type": "code",
   "execution_count": 22,
   "metadata": {},
   "outputs": [],
   "source": [
    "re.match(\"\\(([0-9]+\\.[0-9]+\\.[0-9]+\\.[0-9]+)\\) at ([a-f0-9]{2}:[a-f0-9]{2}:[a-f0-9]{2}:[a-f0-9]{2}):[a-f0-9]{2}:[a-f0-9]{2}\", output)"
   ]
  },
  {
   "cell_type": "code",
   "execution_count": 25,
   "metadata": {},
   "outputs": [
    {
     "data": {
      "text/plain": [
       "[\"b'\",\n",
       " ' (10.0.2.1) at d4:8c:b5:ac:98:b6 on en0 ifscope [ethernet]\\\\n',\n",
       " ' (10.0.2.11) at 0:0:5e:0:1:1 on en0 ifscope [ethernet]\\\\n',\n",
       " ' (10.0.2.14) at dc:a6:32:4d:df:18 on en0 ifscope [ethernet]\\\\n',\n",
       " ' (10.0.2.154) at 3c:7:54:45:bb:c2 on en0 ifscope permanent [ethernet]\\\\n',\n",
       " ' (10.0.2.157) at ac:ae:19:a4:55:fd on en0 ifscope [ethernet]\\\\n',\n",
       " ' (10.0.2.158) at b8:27:eb:95:68:c3 on en0 ifscope [ethernet]\\\\n',\n",
       " ' (10.0.2.159) at 8:5:81:2a:e6:12 on en0 ifscope [ethernet]\\\\n',\n",
       " ' (10.0.2.161) at 30:fd:38:b0:22:da on en0 ifscope [ethernet]\\\\n',\n",
       " ' (10.0.2.166) at 2c:b4:3a:1e:1f:86 on en0 ifscope [ethernet]\\\\n',\n",
       " ' (10.0.2.168) at 0:17:88:68:46:a4 on en0 ifscope [ethernet]\\\\n',\n",
       " ' (10.0.2.170) at 44:33:4c:b3:27:f on en0 ifscope [ethernet]\\\\n',\n",
       " ' (10.0.2.173) at bc:83:85:54:d:7 on en0 ifscope [ethernet]\\\\n',\n",
       " ' (10.0.2.182) at d0:4d:2c:3a:8a:5d on en0 ifscope [ethernet]\\\\n',\n",
       " ' (10.0.2.183) at 2c:b4:3a:26:32:64 on en0 ifscope [ethernet]\\\\n',\n",
       " ' (10.0.2.186) at fe:ba:99:ef:40:93 on en0 ifscope [ethernet]\\\\n',\n",
       " ' (10.0.2.193) at b8:ae:6e:60:41:d2 on en0 ifscope [ethernet]\\\\n',\n",
       " ' (10.0.2.204) at 7c:bb:8a:f4:f2:b1 on en0 ifscope [ethernet]\\\\n',\n",
       " ' (10.0.2.214) at 5c:52:30:9a:73:ed on en0 ifscope [ethernet]\\\\n',\n",
       " ' (10.0.2.217) at 58:ef:68:ea:54:2d on en0 ifscope [ethernet]\\\\n',\n",
       " ' (10.0.2.222) at b8:d7:af:29:f:f4 on en0 ifscope [ethernet]\\\\n',\n",
       " ' (169.254.255.255) at d4:8c:b5:ac:98:b6 on en0 [ethernet]\\\\n',\n",
       " ' (224.0.0.251) at 1:0:5e:0:0:fb on en0 ifscope permanent [ethernet]\\\\n',\n",
       " ' (239.255.255.250) at 1:0:5e:7f:ff:fa on en0 ifscope permanent [ethernet]\\\\n',\n",
       " ' (239.255.255.250) at 1:0:5e:7f:ff:fa on en1 ifscope permanent [ethernet]\\\\n',\n",
       " ' (239.255.255.250) at 1:0:5e:7f:ff:fa on bridge0 ifscope permanent [ethernet]\\\\n',\n",
       " \" (255.255.255.255) at ff:ff:ff:ff:ff:ff on en0 ifscope [ethernet]\\\\n'\"]"
      ]
     },
     "execution_count": 25,
     "metadata": {},
     "output_type": "execute_result"
    }
   ],
   "source": []
  },
  {
   "cell_type": "code",
   "execution_count": 14,
   "metadata": {},
   "outputs": [
    {
     "data": {
      "text/plain": [
       "<re.Match object; span=(4, 21), match='(10.0.2.1) at d4:'>"
      ]
     },
     "execution_count": 14,
     "metadata": {},
     "output_type": "execute_result"
    }
   ],
   "source": [
    "re.search(\"\\(([0-9]+\\.[0-9]+\\.[0-9]+\\.[0-9]+)\\) at ([a-f0-9]{2}:)\", output)"
   ]
  },
  {
   "cell_type": "code",
   "execution_count": 9,
   "metadata": {},
   "outputs": [
    {
     "name": "stdout",
     "output_type": "stream",
     "text": [
      "2022-08-15 07:28 - ping to 10.0.2.217 OK\n"
     ]
    }
   ],
   "source": [
    "addr = address(ip_address, mac_address)"
   ]
  }
 ],
 "metadata": {
  "kernelspec": {
   "display_name": "Python 3",
   "language": "python",
   "name": "python3"
  },
  "language_info": {
   "codemirror_mode": {
    "name": "ipython",
    "version": 3
   },
   "file_extension": ".py",
   "mimetype": "text/x-python",
   "name": "python",
   "nbconvert_exporter": "python",
   "pygments_lexer": "ipython3",
   "version": "3.8.2"
  }
 },
 "nbformat": 4,
 "nbformat_minor": 4
}
