{
 "cells": [
  {
   "cell_type": "code",
   "execution_count": null,
   "metadata": {},
   "outputs": [
    {
     "name": "stderr",
     "output_type": "stream",
     "text": [
      "<ipython-input-1-f29b4bd6517c>:143 - <module>() Starting Ping Test\n",
      "Starting Ping Test\n"
     ]
    },
    {
     "name": "stdout",
     "output_type": "stream",
     "text": [
      "2022-08-18 16:55 - no response from 10.0.2.217\n",
      "2022-08-18 16:55 - no response from 10.0.2.217\n",
      "2022-08-18 16:55 - Ping failed, backoff and retry\n",
      "2022-08-18 16:56 - no response from 10.0.2.217\n",
      "2022-08-18 16:56 - Ping failed, backoff and retry\n",
      "2022-08-18 16:56 - no response from 10.0.2.217\n",
      "2022-08-18 16:56 - Ping failed, backoff and retry\n",
      "2022-08-18 16:56 - no response from 10.0.2.217\n",
      "2022-08-18 16:56 - Ping failed, backoff and retry\n",
      "2022-08-18 16:56 - no response from 10.0.2.217\n",
      "2022-08-18 16:56 - Ping failed, backoff and retry\n"
     ]
    },
    {
     "name": "stderr",
     "output_type": "stream",
     "text": [
      "<ipython-input-1-f29b4bd6517c>:31 - send_alert() 2022-08-18 16:57:  Freezer monitor is not responding!\n",
      "2022-08-18 16:57:  Freezer monitor is not responding!\n",
      "http_client.py:73 - request() POST Request: https://api.twilio.com/2010-04-01/Accounts/AC4ec8a19b2be6797eb5825903ff609d39/Messages.json\n",
      "POST Request: https://api.twilio.com/2010-04-01/Accounts/AC4ec8a19b2be6797eb5825903ff609d39/Messages.json\n",
      "http_client.py:75 - request() PAYLOAD: {'To': '13038182403', 'From': '12052933447', 'Body': '2022-08-18 16:57:  Freezer monitor is not responding!'}\n",
      "PAYLOAD: {'To': '13038182403', 'From': '12052933447', 'Body': '2022-08-18 16:57:  Freezer monitor is not responding!'}\n"
     ]
    },
    {
     "name": "stdout",
     "output_type": "stream",
     "text": [
      "2022-08-18 16:57 - no response from 10.0.2.217\n"
     ]
    },
    {
     "name": "stderr",
     "output_type": "stream",
     "text": [
      "http_client.py:91 - request() POST Response: 201 {\"body\": \"2022-08-18 16:57:  Freezer monitor is not responding!\", \"num_segments\": \"1\", \"direction\": \"outbound-api\", \"from\": \"+12052933447\", \"date_updated\": \"Thu, 18 Aug 2022 22:57:10 +0000\", \"price\": null, \"error_message\": null, \"uri\": \"/2010-04-01/Accounts/AC4ec8a19b2be6797eb5825903ff609d39/Messages/SMbf27690334af381d43c70c725a0ec462.json\", \"account_sid\": \"AC4ec8a19b2be6797eb5825903ff609d39\", \"num_media\": \"0\", \"to\": \"+13038182403\", \"date_created\": \"Thu, 18 Aug 2022 22:57:10 +0000\", \"status\": \"queued\", \"sid\": \"SMbf27690334af381d43c70c725a0ec462\", \"date_sent\": null, \"messaging_service_sid\": null, \"error_code\": null, \"price_unit\": \"USD\", \"api_version\": \"2010-04-01\", \"subresource_uris\": {\"media\": \"/2010-04-01/Accounts/AC4ec8a19b2be6797eb5825903ff609d39/Messages/SMbf27690334af381d43c70c725a0ec462/Media.json\"}}\n",
      "POST Response: 201 {\"body\": \"2022-08-18 16:57:  Freezer monitor is not responding!\", \"num_segments\": \"1\", \"direction\": \"outbound-api\", \"from\": \"+12052933447\", \"date_updated\": \"Thu, 18 Aug 2022 22:57:10 +0000\", \"price\": null, \"error_message\": null, \"uri\": \"/2010-04-01/Accounts/AC4ec8a19b2be6797eb5825903ff609d39/Messages/SMbf27690334af381d43c70c725a0ec462.json\", \"account_sid\": \"AC4ec8a19b2be6797eb5825903ff609d39\", \"num_media\": \"0\", \"to\": \"+13038182403\", \"date_created\": \"Thu, 18 Aug 2022 22:57:10 +0000\", \"status\": \"queued\", \"sid\": \"SMbf27690334af381d43c70c725a0ec462\", \"date_sent\": null, \"messaging_service_sid\": null, \"error_code\": null, \"price_unit\": \"USD\", \"api_version\": \"2010-04-01\", \"subresource_uris\": {\"media\": \"/2010-04-01/Accounts/AC4ec8a19b2be6797eb5825903ff609d39/Messages/SMbf27690334af381d43c70c725a0ec462/Media.json\"}}\n",
      "<ipython-input-1-f29b4bd6517c>:34 - send_alert() Attemped to send alert text.  Status:  queued\n",
      "Attemped to send alert text.  Status:  queued\n"
     ]
    },
    {
     "name": "stdout",
     "output_type": "stream",
     "text": [
      "2022-08-18 16:58 - no response from 10.0.2.217\n",
      "2022-08-18 16:58 - Ping failed, backoff and retry\n",
      "2022-08-18 16:58 - ping to 10.0.2.217 OK\n"
     ]
    },
    {
     "name": "stderr",
     "output_type": "stream",
     "text": [
      "<ipython-input-1-f29b4bd6517c>:31 - send_alert() 2022-08-18 16:59:  Freezer has been restored!\n",
      "2022-08-18 16:59:  Freezer has been restored!\n",
      "http_client.py:73 - request() POST Request: https://api.twilio.com/2010-04-01/Accounts/AC4ec8a19b2be6797eb5825903ff609d39/Messages.json\n",
      "POST Request: https://api.twilio.com/2010-04-01/Accounts/AC4ec8a19b2be6797eb5825903ff609d39/Messages.json\n",
      "http_client.py:75 - request() PAYLOAD: {'To': '13038182403', 'From': '12052933447', 'Body': '2022-08-18 16:59:  Freezer has been restored!'}\n",
      "PAYLOAD: {'To': '13038182403', 'From': '12052933447', 'Body': '2022-08-18 16:59:  Freezer has been restored!'}\n"
     ]
    },
    {
     "name": "stdout",
     "output_type": "stream",
     "text": [
      "2022-08-18 16:59 - ping to 10.0.2.217 OK\n",
      "2022-08-18 16:59 - Host back up\n"
     ]
    },
    {
     "name": "stderr",
     "output_type": "stream",
     "text": [
      "http_client.py:91 - request() POST Response: 201 {\"body\": \"2022-08-18 16:59:  Freezer has been restored!\", \"num_segments\": \"1\", \"direction\": \"outbound-api\", \"from\": \"+12052933447\", \"date_updated\": \"Thu, 18 Aug 2022 22:59:00 +0000\", \"price\": null, \"error_message\": null, \"uri\": \"/2010-04-01/Accounts/AC4ec8a19b2be6797eb5825903ff609d39/Messages/SM808e93a4094e1c7414979c09ab4b4b60.json\", \"account_sid\": \"AC4ec8a19b2be6797eb5825903ff609d39\", \"num_media\": \"0\", \"to\": \"+13038182403\", \"date_created\": \"Thu, 18 Aug 2022 22:59:00 +0000\", \"status\": \"queued\", \"sid\": \"SM808e93a4094e1c7414979c09ab4b4b60\", \"date_sent\": null, \"messaging_service_sid\": null, \"error_code\": null, \"price_unit\": \"USD\", \"api_version\": \"2010-04-01\", \"subresource_uris\": {\"media\": \"/2010-04-01/Accounts/AC4ec8a19b2be6797eb5825903ff609d39/Messages/SM808e93a4094e1c7414979c09ab4b4b60/Media.json\"}}\n",
      "POST Response: 201 {\"body\": \"2022-08-18 16:59:  Freezer has been restored!\", \"num_segments\": \"1\", \"direction\": \"outbound-api\", \"from\": \"+12052933447\", \"date_updated\": \"Thu, 18 Aug 2022 22:59:00 +0000\", \"price\": null, \"error_message\": null, \"uri\": \"/2010-04-01/Accounts/AC4ec8a19b2be6797eb5825903ff609d39/Messages/SM808e93a4094e1c7414979c09ab4b4b60.json\", \"account_sid\": \"AC4ec8a19b2be6797eb5825903ff609d39\", \"num_media\": \"0\", \"to\": \"+13038182403\", \"date_created\": \"Thu, 18 Aug 2022 22:59:00 +0000\", \"status\": \"queued\", \"sid\": \"SM808e93a4094e1c7414979c09ab4b4b60\", \"date_sent\": null, \"messaging_service_sid\": null, \"error_code\": null, \"price_unit\": \"USD\", \"api_version\": \"2010-04-01\", \"subresource_uris\": {\"media\": \"/2010-04-01/Accounts/AC4ec8a19b2be6797eb5825903ff609d39/Messages/SM808e93a4094e1c7414979c09ab4b4b60/Media.json\"}}\n"
     ]
    }
   ],
   "source": [
    "import subprocess\n",
    "import time\n",
    "import datetime\n",
    "from twilio.rest import Client\n",
    "from twilio_info import *\n",
    "import logging \n",
    "import google.cloud.logging\n",
    "import re\n",
    "\n",
    "\n",
    "# Setup Logging\n",
    "file_name = (\"Ping Test\")\n",
    "logger = logging.getLogger(__name__)\n",
    "logging.basicConfig(format=\"%(filename)s:%(lineno)s - %(funcName)s() %(message)s\")\n",
    "logger.setLevel(logging.INFO)\n",
    "\n",
    "auth_file = \"VirtualToolbox-5f6ecffdcf58.json\"\n",
    "\n",
    "client = google.cloud.logging.Client.from_service_account_json(auth_file)\n",
    "client.setup_logging()\n",
    "\n",
    "\n",
    "# Setup Twilio\n",
    "\n",
    "client = Client(twilio_sid, twilio_auth_token)\n",
    "\n",
    "def send_alert(msg):\n",
    "    dtnow = datetime.datetime.strftime(datetime.datetime.now(), \"%Y-%m-%d %H:%M\")\n",
    "    msg_body = \"{}:  {}\".format(dtnow, msg)\n",
    "    try:\n",
    "        logger.error(msg_body)\n",
    "        message = client.messages.create(body=msg_body,from_=phone_num_from,to=phone_num_to)\n",
    "        time.sleep(30)\n",
    "        logger.info(\"Attemped to send alert text.  Status:  {}\".format(message.status))\n",
    "    except:\n",
    "        logger.critical(\"Attemped to send alert text.  Status:  Failed\")\n",
    " \n",
    "\n",
    "# Setup Ping script\n",
    "\n",
    "def ping_addr(ip_address):\n",
    "    try:\n",
    "        res = subprocess.call(['ping', '-c', '3', ip_address])\n",
    "    except:\n",
    "        res = 99\n",
    "    dtnow = datetime.datetime.strftime(datetime.datetime.now(), \"%Y-%m-%d %H:%M\")\n",
    "    if res == 0:\n",
    "        print (\"{} - ping to {} OK\".format(dtnow, ip_address))\n",
    "    elif res == 2:\n",
    "        print (\"{} - no response from {}\".format(dtnow, ip_address))\n",
    "    else:\n",
    "        print (\"{} - ping to {} failed!\".format(dtnow, ip_address))\n",
    "    return(res)\n",
    "    \n",
    "\n",
    "def ping_sweep(subnet):\n",
    "    for x in range(1, 255):\n",
    "        ip_address = f\"{subnet}{x}\"\n",
    "        print(ip_address)\n",
    "        subprocess.call(['ping', '-w', '0.1', '-c', '1', ip_address])\n",
    "    return    \n",
    "\n",
    "class address:\n",
    "    def __init__(self, ip_address, mac_address):\n",
    "        self.call_count = 0\n",
    "        self.ip_address = ip_address\n",
    "        self.mac_address = mac_address\n",
    "        if not self.verify_address(ip_address, mac_address):\n",
    "            ip_address = self.find_ip_address(mac_address, subnet)\n",
    "            if len(ip_address) > 6:\n",
    "                self.ip_address = ip_address\n",
    "    \n",
    "    def find_mac_address(self, ip_address):\n",
    "        ping_addr(ip_address)\n",
    "        pid = subprocess.Popen([\"arp\", \"-n\", ip_address], stdout=subprocess.PIPE)\n",
    "        s = pid.communicate()[0]\n",
    "        results = re.search(r\"(([a-f\\d]{1,2}\\:){5}[a-f\\d]{1,2})\", str(s))\n",
    "        if results:\n",
    "            mac = results.groups()[0]\n",
    "        else:\n",
    "            mac = ''\n",
    "        return(mac)\n",
    "\n",
    "    def find_ip_address(self, mac_address, subnet):\n",
    "        ping_sweep(subnet)\n",
    "        pid = subprocess.Popen([\"arp\", \"-an\"], stdout=subprocess.PIPE)\n",
    "        s = pid.communicate()[0]\n",
    "        results = re.search(f\"\\(([0-9]+\\.[0-9]+\\.[0-9]+\\.[0-9]+)\\) at {mac_address.lower()}\", str(s).lower())\n",
    "        if results:\n",
    "            ip_address = results[1]\n",
    "        else:\n",
    "            ip_address = ''\n",
    "        return(ip_address)\n",
    "\n",
    "    def verify_address(self, ip_address, mac_address):\n",
    "        mac_address2 = self.find_mac_address(ip_address)\n",
    "        return(mac_address.lower() == mac_address2.lower())\n",
    "    \n",
    "    def get_ip_address(self):\n",
    "        self.call_count += 1\n",
    "        if self.call_count > 10:\n",
    "            self.__init__(self.ip_address, self.mac_address)\n",
    "        return(self.ip_address)\n",
    "    \n",
    "def main(ip_address, mac_address, device_name):    \n",
    "    addr = address(ip_address, mac_address)\n",
    "    alert_active = False\n",
    "    while True:\n",
    "        alert_count = 0\n",
    "\n",
    "        while alert_count < 4:\n",
    "            status = ping_addr(addr.get_ip_address())\n",
    "            count = 0\n",
    "            \n",
    "            if (alert_active)&(status == 0):\n",
    "                dtnow = datetime.datetime.strftime(datetime.datetime.now(), \"%Y-%m-%d %H:%M\")\n",
    "                print(\"{} - Host back up\".format(dtnow))\n",
    "                send_alert(\"{} has been restored!\".format(device_name))\n",
    "                alert_active = False\n",
    "                \n",
    "\n",
    "            while (status != 0)&(count<5):\n",
    "                dtnow = datetime.datetime.strftime(datetime.datetime.now(), \"%Y-%m-%d %H:%M\")\n",
    "                print(\"{} - Ping failed, backoff and retry\".format(dtnow))\n",
    "                time.sleep(3)\n",
    "                status = ping_addr(ip_address)\n",
    "                count += 1\n",
    "\n",
    "            if status != 0:\n",
    "                send_alert(\"{} monitor is not responding!\".format(device_name))\n",
    "                alert_count += 1\n",
    "                alert_active = True\n",
    "\n",
    "            time.sleep(30)\n",
    "\n",
    "        if alert_count >= 4:\n",
    "            dtnow = datetime.datetime.strftime(datetime.datetime.now(), \"%Y-%m-%d %H:%M\")\n",
    "            print(\"{} - Exceeded alert count, backing off for 4 hours\".format(dtnow))\n",
    "            time.sleep(4*60*60)\n",
    "            count = 0\n",
    "            alert_count = 0\n",
    "\n",
    "logger.info(\"Starting Ping Test\")\n",
    "\n",
    "\n",
    "\n",
    "ip_address = \"10.0.2.217\"\n",
    "subnet = '10.0.2.'\n",
    "mac_address = '58:EF:68:EA:54:2D'\n",
    "device_name = 'Freezer'\n",
    "\n",
    "main(ip_address, mac_address, device_name)\n"
   ]
  },
  {
   "cell_type": "code",
   "execution_count": null,
   "metadata": {},
   "outputs": [],
   "source": []
  }
 ],
 "metadata": {
  "kernelspec": {
   "display_name": "Python 3",
   "language": "python",
   "name": "python3"
  },
  "language_info": {
   "codemirror_mode": {
    "name": "ipython",
    "version": 3
   },
   "file_extension": ".py",
   "mimetype": "text/x-python",
   "name": "python",
   "nbconvert_exporter": "python",
   "pygments_lexer": "ipython3",
   "version": "3.8.2"
  }
 },
 "nbformat": 4,
 "nbformat_minor": 4
}
