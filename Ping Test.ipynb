{
 "cells": [
  {
   "cell_type": "code",
   "execution_count": 43,
   "metadata": {},
   "outputs": [
    {
     "name": "stderr",
     "output_type": "stream",
     "text": [
      "<ipython-input-43-0fbe08e17b6d>:118 - <module>() Starting Ping Test\n",
      "Starting Ping Test\n",
      "Starting Ping Test\n"
     ]
    }
   ],
   "source": [
    "import subprocess\n",
    "from threading import Thread\n",
    "import time\n",
    "import datetime\n",
    "from twilio.rest import Client\n",
    "from twilio_info import *\n",
    "import logging \n",
    "import google.cloud.logging\n",
    "import re\n",
    "\n",
    "\n",
    "# Setup Logging\n",
    "file_name = (\"Ping Test\")\n",
    "logger = logging.getLogger(__name__)\n",
    "logging.basicConfig(format=\"%(filename)s:%(lineno)s - %(funcName)s() %(message)s\")\n",
    "logger.setLevel(logging.INFO)\n",
    "\n",
    "auth_file = \"VirtualToolbox-5f6ecffdcf58.json\"\n",
    "\n",
    "client = google.cloud.logging.Client.from_service_account_json(auth_file)\n",
    "client.setup_logging()\n",
    "\n",
    "\n",
    "# Setup Twilio\n",
    "\n",
    "client = Client(twilio_sid, twilio_auth_token)\n",
    "\n",
    "def send_alert(msg):\n",
    "    dtnow = datetime.datetime.strftime(datetime.datetime.now(), \"%Y-%m-%d %H:%M\")\n",
    "    msg_body = \"{}:  {}\".format(dtnow, msg)\n",
    "    try:\n",
    "        logger.error(msg_body)\n",
    "        message = client.messages.create(body=msg_body,from_=phone_num_from,to=phone_num_to)\n",
    "        time.sleep(30)\n",
    "        logger.info(\"Attemped to send alert text.  Status:  {}\".format(message.status))\n",
    "    except:\n",
    "        logger.critical(\"Attemped to send alert text.  Status:  Failed\")\n",
    " \n",
    "\n",
    "# Setup Ping script\n",
    "\n",
    "def ping_addr(ip_address):\n",
    "    try:\n",
    "        res = subprocess.call(['ping', '-c', '3', ip_address])\n",
    "    except:\n",
    "        res = 99\n",
    "    dtnow = datetime.datetime.strftime(datetime.datetime.now(), \"%Y-%m-%d %H:%M\")\n",
    "    if res == 0:\n",
    "        print (\"{} - ping to {} OK\".format(dtnow, ip_address))\n",
    "    elif res == 2:\n",
    "        print (\"{} - no response from {}\".format(dtnow, ip_address))\n",
    "    else:\n",
    "        print (\"{} - ping to {} failed!\".format(dtnow, ip_address))\n",
    "    return(res)\n",
    "    \n",
    "\n",
    "class address:\n",
    "    def __init__(self, ip_address, mac_address):\n",
    "        self.call_count = 0\n",
    "        self.ip_address = ip_address\n",
    "        self.mac_address = mac_address\n",
    "        if not self.verify_address(ip_address, mac_address):\n",
    "            self.ip_address = self.find_ip_address(mac_address)\n",
    "    \n",
    "    def find_mac_address(self, ip_address):\n",
    "        ping_addr(ip_address)\n",
    "        pid = subprocess.Popen([\"arp\", \"-n\", ip_address], stdout=subprocess.PIPE)\n",
    "        s = pid.communicate()[0]\n",
    "        mac = re.search(r\"(([a-f\\d]{1,2}\\:){5}[a-f\\d]{1,2})\", str(s)).groups()[0]\n",
    "        return(mac)\n",
    "\n",
    "    def find_ip_address(self, mac_address):\n",
    "        ping_addr('255.255.255.255')\n",
    "        pid = subprocess.Popen([\"arp\", \"-an\"], stdout=subprocess.PIPE)\n",
    "        s = pid.communicate()[0]\n",
    "        ip_address = re.search(f\"\\(([0-9]+\\.[0-9]+\\.[0-9]+\\.[0-9]+)\\) at {mac_address.lower()}\", str(s).lower())[1]\n",
    "        return(ip_address)\n",
    "\n",
    "    def verify_address(self, ip_address, mac_address):\n",
    "        mac_address2 = self.find_mac_address(ip_address)\n",
    "        return(mac_address.lower() == mac_address2.lower())\n",
    "    \n",
    "    def get_ip_address(self):\n",
    "        self.call_count += 1\n",
    "        if self.call_count > 10:\n",
    "            self.__init__(self.ip_address, self.mac_address)\n",
    "        return(self.ip_address)\n",
    "    \n",
    "def main(ip_address, mac_address):    \n",
    "    addr = address(ip_address, mac_address)\n",
    "    while True:\n",
    "        alert_count = 0\n",
    "\n",
    "        while alert_count < 4:\n",
    "            status = ping_addr(addr.get_ip_address())\n",
    "            count = 0\n",
    "\n",
    "            while (status != 0)&(count<5):\n",
    "                dtnow = datetime.datetime.strftime(datetime.datetime.now(), \"%Y-%m-%d %H:%M\")\n",
    "                print(\"{} - Ping failed, backoff and retry\".format(dtnow))\n",
    "                time.sleep(3)\n",
    "                status = ping_addr(ip_address)\n",
    "                count += 1\n",
    "\n",
    "            if status != 0:\n",
    "                send_alert(\"Host {} is down!\".format(ip_address))\n",
    "                alert_count += 1\n",
    "\n",
    "            time.sleep(30)\n",
    "\n",
    "        if alert_count >= 4:\n",
    "            dtnow = datetime.datetime.strftime(datetime.datetime.now(), \"%Y-%m-%d %H:%M\")\n",
    "            print(\"{} - Exceeded alert count, backing off for 4 hours\".format(dtnow))\n",
    "            time.sleep(4*60*60)\n",
    "            count = 0\n",
    "            alert_count = 0\n",
    "\n",
    "logger.info(\"Starting Ping Test\")\n",
    "\n",
    "\n",
    "\n",
    "ip_address = \"10.0.2.217\"\n",
    "mac_address = '58:EF:68:EA:54:2D'\n",
    "\n",
    "#main(ip_address, mac_address)\n"
   ]
  },
  {
   "cell_type": "code",
   "execution_count": 2,
   "metadata": {
    "collapsed": true,
    "jupyter": {
     "outputs_hidden": true
    }
   },
   "outputs": [
    {
     "ename": "AttributeError",
     "evalue": "'address' object has no attribute 'ping_addr'",
     "output_type": "error",
     "traceback": [
      "\u001b[0;31m---------------------------------------------------------------------------\u001b[0m",
      "\u001b[0;31mAttributeError\u001b[0m                            Traceback (most recent call last)",
      "\u001b[0;32m<ipython-input-2-789b78639456>\u001b[0m in \u001b[0;36m<module>\u001b[0;34m\u001b[0m\n\u001b[0;32m----> 1\u001b[0;31m \u001b[0mmain\u001b[0m\u001b[0;34m(\u001b[0m\u001b[0mip_address\u001b[0m\u001b[0;34m,\u001b[0m \u001b[0mmac_address\u001b[0m\u001b[0;34m)\u001b[0m\u001b[0;34m\u001b[0m\u001b[0;34m\u001b[0m\u001b[0m\n\u001b[0m",
      "\u001b[0;32m<ipython-input-1-01e809e31c49>\u001b[0m in \u001b[0;36mmain\u001b[0;34m(ip_address, mac_address)\u001b[0m\n\u001b[1;32m     87\u001b[0m \u001b[0;34m\u001b[0m\u001b[0m\n\u001b[1;32m     88\u001b[0m \u001b[0;32mdef\u001b[0m \u001b[0mmain\u001b[0m\u001b[0;34m(\u001b[0m\u001b[0mip_address\u001b[0m\u001b[0;34m,\u001b[0m \u001b[0mmac_address\u001b[0m\u001b[0;34m)\u001b[0m\u001b[0;34m:\u001b[0m\u001b[0;34m\u001b[0m\u001b[0;34m\u001b[0m\u001b[0m\n\u001b[0;32m---> 89\u001b[0;31m     \u001b[0maddr\u001b[0m \u001b[0;34m=\u001b[0m \u001b[0maddress\u001b[0m\u001b[0;34m(\u001b[0m\u001b[0mip_address\u001b[0m\u001b[0;34m,\u001b[0m \u001b[0mmac_address\u001b[0m\u001b[0;34m)\u001b[0m\u001b[0;34m\u001b[0m\u001b[0;34m\u001b[0m\u001b[0m\n\u001b[0m\u001b[1;32m     90\u001b[0m     \u001b[0;32mwhile\u001b[0m \u001b[0;32mTrue\u001b[0m\u001b[0;34m:\u001b[0m\u001b[0;34m\u001b[0m\u001b[0;34m\u001b[0m\u001b[0m\n\u001b[1;32m     91\u001b[0m         \u001b[0malert_count\u001b[0m \u001b[0;34m=\u001b[0m \u001b[0;36m0\u001b[0m\u001b[0;34m\u001b[0m\u001b[0;34m\u001b[0m\u001b[0m\n",
      "\u001b[0;32m<ipython-input-1-01e809e31c49>\u001b[0m in \u001b[0;36m__init__\u001b[0;34m(self, ip_address, mac_address)\u001b[0m\n\u001b[1;32m     59\u001b[0m         \u001b[0mself\u001b[0m\u001b[0;34m.\u001b[0m\u001b[0mip_address\u001b[0m \u001b[0;34m=\u001b[0m \u001b[0mip_address\u001b[0m\u001b[0;34m\u001b[0m\u001b[0;34m\u001b[0m\u001b[0m\n\u001b[1;32m     60\u001b[0m         \u001b[0mself\u001b[0m\u001b[0;34m.\u001b[0m\u001b[0mmac_address\u001b[0m \u001b[0;34m=\u001b[0m \u001b[0mmac_address\u001b[0m\u001b[0;34m\u001b[0m\u001b[0;34m\u001b[0m\u001b[0m\n\u001b[0;32m---> 61\u001b[0;31m         \u001b[0;32mif\u001b[0m \u001b[0;32mnot\u001b[0m \u001b[0mself\u001b[0m\u001b[0;34m.\u001b[0m\u001b[0mverify_address\u001b[0m\u001b[0;34m(\u001b[0m\u001b[0mip_address\u001b[0m\u001b[0;34m,\u001b[0m \u001b[0mmac_address\u001b[0m\u001b[0;34m)\u001b[0m\u001b[0;34m:\u001b[0m\u001b[0;34m\u001b[0m\u001b[0;34m\u001b[0m\u001b[0m\n\u001b[0m\u001b[1;32m     62\u001b[0m             \u001b[0mself\u001b[0m\u001b[0;34m.\u001b[0m\u001b[0mip_address\u001b[0m \u001b[0;34m=\u001b[0m \u001b[0mself\u001b[0m\u001b[0;34m.\u001b[0m\u001b[0mfind_ip_address\u001b[0m\u001b[0;34m(\u001b[0m\u001b[0mmac_address\u001b[0m\u001b[0;34m)\u001b[0m\u001b[0;34m\u001b[0m\u001b[0;34m\u001b[0m\u001b[0m\n\u001b[1;32m     63\u001b[0m \u001b[0;34m\u001b[0m\u001b[0m\n",
      "\u001b[0;32m<ipython-input-1-01e809e31c49>\u001b[0m in \u001b[0;36mverify_address\u001b[0;34m(self, ip_address, mac_address)\u001b[0m\n\u001b[1;32m     77\u001b[0m \u001b[0;34m\u001b[0m\u001b[0m\n\u001b[1;32m     78\u001b[0m     \u001b[0;32mdef\u001b[0m \u001b[0mverify_address\u001b[0m\u001b[0;34m(\u001b[0m\u001b[0mself\u001b[0m\u001b[0;34m,\u001b[0m \u001b[0mip_address\u001b[0m\u001b[0;34m,\u001b[0m \u001b[0mmac_address\u001b[0m\u001b[0;34m)\u001b[0m\u001b[0;34m:\u001b[0m\u001b[0;34m\u001b[0m\u001b[0;34m\u001b[0m\u001b[0m\n\u001b[0;32m---> 79\u001b[0;31m         \u001b[0mmac_address2\u001b[0m \u001b[0;34m=\u001b[0m \u001b[0mself\u001b[0m\u001b[0;34m.\u001b[0m\u001b[0mfind_mac_address\u001b[0m\u001b[0;34m(\u001b[0m\u001b[0mip_address\u001b[0m\u001b[0;34m)\u001b[0m\u001b[0;34m\u001b[0m\u001b[0;34m\u001b[0m\u001b[0m\n\u001b[0m\u001b[1;32m     80\u001b[0m         \u001b[0;32mreturn\u001b[0m\u001b[0;34m(\u001b[0m\u001b[0mmac_address\u001b[0m\u001b[0;34m.\u001b[0m\u001b[0mlower\u001b[0m\u001b[0;34m(\u001b[0m\u001b[0;34m)\u001b[0m \u001b[0;34m==\u001b[0m \u001b[0mmac_address2\u001b[0m\u001b[0;34m.\u001b[0m\u001b[0mlower\u001b[0m\u001b[0;34m(\u001b[0m\u001b[0;34m)\u001b[0m\u001b[0;34m)\u001b[0m\u001b[0;34m\u001b[0m\u001b[0;34m\u001b[0m\u001b[0m\n\u001b[1;32m     81\u001b[0m \u001b[0;34m\u001b[0m\u001b[0m\n",
      "\u001b[0;32m<ipython-input-1-01e809e31c49>\u001b[0m in \u001b[0;36mfind_mac_address\u001b[0;34m(self, ip_address)\u001b[0m\n\u001b[1;32m     63\u001b[0m \u001b[0;34m\u001b[0m\u001b[0m\n\u001b[1;32m     64\u001b[0m     \u001b[0;32mdef\u001b[0m \u001b[0mfind_mac_address\u001b[0m\u001b[0;34m(\u001b[0m\u001b[0mself\u001b[0m\u001b[0;34m,\u001b[0m \u001b[0mip_address\u001b[0m\u001b[0;34m)\u001b[0m\u001b[0;34m:\u001b[0m\u001b[0;34m\u001b[0m\u001b[0;34m\u001b[0m\u001b[0m\n\u001b[0;32m---> 65\u001b[0;31m         \u001b[0mself\u001b[0m\u001b[0;34m.\u001b[0m\u001b[0mping_addr\u001b[0m\u001b[0;34m(\u001b[0m\u001b[0mip_address\u001b[0m\u001b[0;34m)\u001b[0m\u001b[0;34m\u001b[0m\u001b[0;34m\u001b[0m\u001b[0m\n\u001b[0m\u001b[1;32m     66\u001b[0m         \u001b[0mpid\u001b[0m \u001b[0;34m=\u001b[0m \u001b[0msubprocess\u001b[0m\u001b[0;34m.\u001b[0m\u001b[0mPopen\u001b[0m\u001b[0;34m(\u001b[0m\u001b[0;34m[\u001b[0m\u001b[0;34m\"arp\"\u001b[0m\u001b[0;34m,\u001b[0m \u001b[0;34m\"-n\"\u001b[0m\u001b[0;34m,\u001b[0m \u001b[0mip_address\u001b[0m\u001b[0;34m]\u001b[0m\u001b[0;34m,\u001b[0m \u001b[0mstdout\u001b[0m\u001b[0;34m=\u001b[0m\u001b[0msubprocess\u001b[0m\u001b[0;34m.\u001b[0m\u001b[0mPIPE\u001b[0m\u001b[0;34m)\u001b[0m\u001b[0;34m\u001b[0m\u001b[0;34m\u001b[0m\u001b[0m\n\u001b[1;32m     67\u001b[0m         \u001b[0ms\u001b[0m \u001b[0;34m=\u001b[0m \u001b[0mpid\u001b[0m\u001b[0;34m.\u001b[0m\u001b[0mcommunicate\u001b[0m\u001b[0;34m(\u001b[0m\u001b[0;34m)\u001b[0m\u001b[0;34m[\u001b[0m\u001b[0;36m0\u001b[0m\u001b[0;34m]\u001b[0m\u001b[0;34m\u001b[0m\u001b[0;34m\u001b[0m\u001b[0m\n",
      "\u001b[0;31mAttributeError\u001b[0m: 'address' object has no attribute 'ping_addr'"
     ]
    }
   ],
   "source": [
    "main(ip_address, mac_address)"
   ]
  },
  {
   "cell_type": "code",
   "execution_count": 35,
   "metadata": {},
   "outputs": [],
   "source": [
    "def get_arp_table():\n",
    "    ping_addr('255.255.255.255')\n",
    "    pid = subprocess.Popen([\"arp\", \"-an\"], stdout=subprocess.PIPE)\n",
    "    s = pid.communicate()[0]\n",
    "    output = str(s).lower()\n",
    "    output_list = []\n",
    "    for output2 in output.split('?'):\n",
    "        try:\n",
    "            output_list.append(re.search(\"\\(([0-9]+\\.[0-9]+\\.[0-9]+\\.[0-9]+)\\) at ([a-f0-9]{2}:[a-f0-9]{2}:[a-f0-9]{2}:[a-f0-9]{2}:[a-f0-9]{2}:[a-f0-9]{2})\", output2).groups())\n",
    "        except:\n",
    "            pass\n",
    "    return(output_list)"
   ]
  },
  {
   "cell_type": "code",
   "execution_count": 36,
   "metadata": {},
   "outputs": [
    {
     "name": "stdout",
     "output_type": "stream",
     "text": [
      "2022-08-15 08:11 - ping to 255.255.255.255 OK\n"
     ]
    }
   ],
   "source": [
    "output_list = get_arp_table()"
   ]
  },
  {
   "cell_type": "code",
   "execution_count": 37,
   "metadata": {},
   "outputs": [
    {
     "data": {
      "text/plain": [
       "[('10.0.2.1', 'd4:8c:b5:ac:98:b6'),\n",
       " ('10.0.2.14', 'dc:a6:32:4d:df:18'),\n",
       " ('10.0.2.157', 'ac:ae:19:a4:55:fd'),\n",
       " ('10.0.2.158', 'b8:27:eb:95:68:c3'),\n",
       " ('10.0.2.161', '30:fd:38:b0:22:da'),\n",
       " ('10.0.2.166', '2c:b4:3a:1e:1f:86'),\n",
       " ('10.0.2.182', 'd0:4d:2c:3a:8a:5d'),\n",
       " ('10.0.2.183', '2c:b4:3a:26:32:64'),\n",
       " ('10.0.2.186', 'fe:ba:99:ef:40:93'),\n",
       " ('10.0.2.187', '5c:52:1e:98:1c:d2'),\n",
       " ('10.0.2.188', 'aa:11:dc:74:8d:86'),\n",
       " ('10.0.2.204', '7c:bb:8a:f4:f2:b1'),\n",
       " ('10.0.2.214', '5c:52:30:9a:73:ed'),\n",
       " ('10.0.2.255', 'ff:ff:ff:ff:ff:ff'),\n",
       " ('10.0.2.255', 'ff:ff:ff:ff:ff:ff'),\n",
       " ('169.254.255.255', 'd4:8c:b5:ac:98:b6'),\n",
       " ('255.255.255.255', 'ff:ff:ff:ff:ff:ff')]"
      ]
     },
     "execution_count": 37,
     "metadata": {},
     "output_type": "execute_result"
    }
   ],
   "source": [
    "output_list"
   ]
  },
  {
   "cell_type": "code",
   "execution_count": 39,
   "metadata": {},
   "outputs": [
    {
     "name": "stdout",
     "output_type": "stream",
     "text": [
      "2022-08-15 08:15 - ping to 10.0.2.255 OK\n",
      "2022-08-15 08:15 - ping to 255.255.255.255 OK\n"
     ]
    },
    {
     "data": {
      "text/plain": [
       "[('10.0.2.0', 'ff:ff:ff:ff:ff:ff'),\n",
       " ('10.0.2.1', 'd4:8c:b5:ac:98:b6'),\n",
       " ('10.0.2.14', 'dc:a6:32:4d:df:18'),\n",
       " ('10.0.2.152', '58:ac:78:de:9c:40'),\n",
       " ('10.0.2.153', 'cc:7f:75:aa:47:40'),\n",
       " ('10.0.2.157', 'ac:ae:19:a4:55:fd'),\n",
       " ('10.0.2.158', 'b8:27:eb:95:68:c3'),\n",
       " ('10.0.2.161', '30:fd:38:b0:22:da'),\n",
       " ('10.0.2.166', '2c:b4:3a:1e:1f:86'),\n",
       " ('10.0.2.182', 'd0:4d:2c:3a:8a:5d'),\n",
       " ('10.0.2.183', '2c:b4:3a:26:32:64'),\n",
       " ('10.0.2.185', '44:61:32:46:c1:ff'),\n",
       " ('10.0.2.186', 'fe:ba:99:ef:40:93'),\n",
       " ('10.0.2.187', '5c:52:1e:98:1c:d2'),\n",
       " ('10.0.2.188', 'aa:11:dc:74:8d:86'),\n",
       " ('10.0.2.191', 'e4:ce:8f:67:67:e8'),\n",
       " ('10.0.2.196', '44:d2:44:64:8e:66'),\n",
       " ('10.0.2.204', '7c:bb:8a:f4:f2:b1'),\n",
       " ('10.0.2.206', '58:ef:68:ed:51:ed'),\n",
       " ('10.0.2.214', '5c:52:30:9a:73:ed'),\n",
       " ('10.0.2.217', '58:ef:68:ea:54:2d'),\n",
       " ('10.0.2.255', 'ff:ff:ff:ff:ff:ff'),\n",
       " ('169.254.255.255', 'd4:8c:b5:ac:98:b6'),\n",
       " ('255.255.255.255', 'ff:ff:ff:ff:ff:ff')]"
      ]
     },
     "execution_count": 39,
     "metadata": {},
     "output_type": "execute_result"
    }
   ],
   "source": [
    "ping_addr('10.0.2.255')\n",
    "get_arp_table()"
   ]
  },
  {
   "cell_type": "code",
   "execution_count": 58,
   "metadata": {},
   "outputs": [
    {
     "ename": "CalledProcessError",
     "evalue": "Command '['ping', '-c1', '10.0.2.7']' returned non-zero exit status 2.",
     "output_type": "error",
     "traceback": [
      "\u001b[0;31m---------------------------------------------------------------------------\u001b[0m",
      "\u001b[0;31mCalledProcessError\u001b[0m                        Traceback (most recent call last)",
      "\u001b[0;32m<ipython-input-58-bc11031b9c2d>\u001b[0m in \u001b[0;36m<module>\u001b[0;34m\u001b[0m\n\u001b[0;32m----> 1\u001b[0;31m \u001b[0mping_one\u001b[0m\u001b[0;34m(\u001b[0m\u001b[0mip_address\u001b[0m\u001b[0;34m)\u001b[0m\u001b[0;34m\u001b[0m\u001b[0;34m\u001b[0m\u001b[0m\n\u001b[0m",
      "\u001b[0;32m<ipython-input-57-e498e1bd1a9b>\u001b[0m in \u001b[0;36mping_one\u001b[0;34m(ip_address)\u001b[0m\n\u001b[1;32m      1\u001b[0m \u001b[0;32mdef\u001b[0m \u001b[0mping_one\u001b[0m\u001b[0;34m(\u001b[0m\u001b[0mip_address\u001b[0m\u001b[0;34m)\u001b[0m\u001b[0;34m:\u001b[0m\u001b[0;34m\u001b[0m\u001b[0;34m\u001b[0m\u001b[0m\n\u001b[1;32m      2\u001b[0m     \u001b[0mDEVNULL\u001b[0m \u001b[0;34m=\u001b[0m \u001b[0mopen\u001b[0m\u001b[0;34m(\u001b[0m\u001b[0mos\u001b[0m\u001b[0;34m.\u001b[0m\u001b[0mdevnull\u001b[0m\u001b[0;34m,\u001b[0m\u001b[0;34m'w'\u001b[0m\u001b[0;34m)\u001b[0m\u001b[0;34m\u001b[0m\u001b[0;34m\u001b[0m\u001b[0m\n\u001b[0;32m----> 3\u001b[0;31m     \u001b[0msubprocess\u001b[0m\u001b[0;34m.\u001b[0m\u001b[0mcheck_call\u001b[0m\u001b[0;34m(\u001b[0m\u001b[0;34m[\u001b[0m\u001b[0;34m'ping'\u001b[0m\u001b[0;34m,\u001b[0m\u001b[0;34m'-c1'\u001b[0m\u001b[0;34m,\u001b[0m\u001b[0mip_address\u001b[0m\u001b[0;34m]\u001b[0m\u001b[0;34m,\u001b[0m \u001b[0mstdout\u001b[0m\u001b[0;34m=\u001b[0m\u001b[0mDEVNULL\u001b[0m\u001b[0;34m)\u001b[0m\u001b[0;34m\u001b[0m\u001b[0;34m\u001b[0m\u001b[0m\n\u001b[0m\u001b[1;32m      4\u001b[0m \u001b[0;34m\u001b[0m\u001b[0m\n",
      "\u001b[0;32m/Library/Frameworks/Python.framework/Versions/3.8/lib/python3.8/subprocess.py\u001b[0m in \u001b[0;36mcheck_call\u001b[0;34m(*popenargs, **kwargs)\u001b[0m\n\u001b[1;32m    362\u001b[0m         \u001b[0;32mif\u001b[0m \u001b[0mcmd\u001b[0m \u001b[0;32mis\u001b[0m \u001b[0;32mNone\u001b[0m\u001b[0;34m:\u001b[0m\u001b[0;34m\u001b[0m\u001b[0;34m\u001b[0m\u001b[0m\n\u001b[1;32m    363\u001b[0m             \u001b[0mcmd\u001b[0m \u001b[0;34m=\u001b[0m \u001b[0mpopenargs\u001b[0m\u001b[0;34m[\u001b[0m\u001b[0;36m0\u001b[0m\u001b[0;34m]\u001b[0m\u001b[0;34m\u001b[0m\u001b[0;34m\u001b[0m\u001b[0m\n\u001b[0;32m--> 364\u001b[0;31m         \u001b[0;32mraise\u001b[0m \u001b[0mCalledProcessError\u001b[0m\u001b[0;34m(\u001b[0m\u001b[0mretcode\u001b[0m\u001b[0;34m,\u001b[0m \u001b[0mcmd\u001b[0m\u001b[0;34m)\u001b[0m\u001b[0;34m\u001b[0m\u001b[0;34m\u001b[0m\u001b[0m\n\u001b[0m\u001b[1;32m    365\u001b[0m     \u001b[0;32mreturn\u001b[0m \u001b[0;36m0\u001b[0m\u001b[0;34m\u001b[0m\u001b[0;34m\u001b[0m\u001b[0m\n\u001b[1;32m    366\u001b[0m \u001b[0;34m\u001b[0m\u001b[0m\n",
      "\u001b[0;31mCalledProcessError\u001b[0m: Command '['ping', '-c1', '10.0.2.7']' returned non-zero exit status 2."
     ]
    }
   ],
   "source": []
  },
  {
   "cell_type": "code",
   "execution_count": 52,
   "metadata": {
    "collapsed": true,
    "jupyter": {
     "outputs_hidden": true
    }
   },
   "outputs": [
    {
     "name": "stdout",
     "output_type": "stream",
     "text": [
      "10.0.2.1\n",
      "10.0.2.2\n",
      "10.0.2.3\n",
      "10.0.2.4\n",
      "10.0.2.5\n",
      "10.0.2.6\n",
      "10.0.2.7\n"
     ]
    },
    {
     "ename": "KeyboardInterrupt",
     "evalue": "",
     "output_type": "error",
     "traceback": [
      "\u001b[0;31m---------------------------------------------------------------------------\u001b[0m",
      "\u001b[0;31mKeyboardInterrupt\u001b[0m                         Traceback (most recent call last)",
      "\u001b[0;32m<ipython-input-52-06059f8973aa>\u001b[0m in \u001b[0;36m<module>\u001b[0;34m\u001b[0m\n\u001b[1;32m      3\u001b[0m     \u001b[0mip_address\u001b[0m \u001b[0;34m=\u001b[0m \u001b[0;34mf\"{subnet}{x}\"\u001b[0m\u001b[0;34m\u001b[0m\u001b[0;34m\u001b[0m\u001b[0m\n\u001b[1;32m      4\u001b[0m     \u001b[0mprint\u001b[0m\u001b[0;34m(\u001b[0m\u001b[0mip_address\u001b[0m\u001b[0;34m)\u001b[0m\u001b[0;34m\u001b[0m\u001b[0;34m\u001b[0m\u001b[0m\n\u001b[0;32m----> 5\u001b[0;31m     \u001b[0msubprocess\u001b[0m\u001b[0;34m.\u001b[0m\u001b[0mcall\u001b[0m\u001b[0;34m(\u001b[0m\u001b[0;34m[\u001b[0m\u001b[0;34m'ping'\u001b[0m\u001b[0;34m,\u001b[0m \u001b[0;34m'-c'\u001b[0m\u001b[0;34m,\u001b[0m \u001b[0;34m'1'\u001b[0m\u001b[0;34m,\u001b[0m \u001b[0mip_address\u001b[0m\u001b[0;34m]\u001b[0m\u001b[0;34m)\u001b[0m\u001b[0;34m\u001b[0m\u001b[0;34m\u001b[0m\u001b[0m\n\u001b[0m\u001b[1;32m      6\u001b[0m \u001b[0;34m\u001b[0m\u001b[0m\n",
      "\u001b[0;32m/Library/Frameworks/Python.framework/Versions/3.8/lib/python3.8/subprocess.py\u001b[0m in \u001b[0;36mcall\u001b[0;34m(timeout, *popenargs, **kwargs)\u001b[0m\n\u001b[1;32m    340\u001b[0m     \u001b[0;32mwith\u001b[0m \u001b[0mPopen\u001b[0m\u001b[0;34m(\u001b[0m\u001b[0;34m*\u001b[0m\u001b[0mpopenargs\u001b[0m\u001b[0;34m,\u001b[0m \u001b[0;34m**\u001b[0m\u001b[0mkwargs\u001b[0m\u001b[0;34m)\u001b[0m \u001b[0;32mas\u001b[0m \u001b[0mp\u001b[0m\u001b[0;34m:\u001b[0m\u001b[0;34m\u001b[0m\u001b[0;34m\u001b[0m\u001b[0m\n\u001b[1;32m    341\u001b[0m         \u001b[0;32mtry\u001b[0m\u001b[0;34m:\u001b[0m\u001b[0;34m\u001b[0m\u001b[0;34m\u001b[0m\u001b[0m\n\u001b[0;32m--> 342\u001b[0;31m             \u001b[0;32mreturn\u001b[0m \u001b[0mp\u001b[0m\u001b[0;34m.\u001b[0m\u001b[0mwait\u001b[0m\u001b[0;34m(\u001b[0m\u001b[0mtimeout\u001b[0m\u001b[0;34m=\u001b[0m\u001b[0mtimeout\u001b[0m\u001b[0;34m)\u001b[0m\u001b[0;34m\u001b[0m\u001b[0;34m\u001b[0m\u001b[0m\n\u001b[0m\u001b[1;32m    343\u001b[0m         \u001b[0;32mexcept\u001b[0m\u001b[0;34m:\u001b[0m  \u001b[0;31m# Including KeyboardInterrupt, wait handled that.\u001b[0m\u001b[0;34m\u001b[0m\u001b[0;34m\u001b[0m\u001b[0m\n\u001b[1;32m    344\u001b[0m             \u001b[0mp\u001b[0m\u001b[0;34m.\u001b[0m\u001b[0mkill\u001b[0m\u001b[0;34m(\u001b[0m\u001b[0;34m)\u001b[0m\u001b[0;34m\u001b[0m\u001b[0;34m\u001b[0m\u001b[0m\n",
      "\u001b[0;32m/Library/Frameworks/Python.framework/Versions/3.8/lib/python3.8/subprocess.py\u001b[0m in \u001b[0;36mwait\u001b[0;34m(self, timeout)\u001b[0m\n\u001b[1;32m   1077\u001b[0m             \u001b[0mendtime\u001b[0m \u001b[0;34m=\u001b[0m \u001b[0m_time\u001b[0m\u001b[0;34m(\u001b[0m\u001b[0;34m)\u001b[0m \u001b[0;34m+\u001b[0m \u001b[0mtimeout\u001b[0m\u001b[0;34m\u001b[0m\u001b[0;34m\u001b[0m\u001b[0m\n\u001b[1;32m   1078\u001b[0m         \u001b[0;32mtry\u001b[0m\u001b[0;34m:\u001b[0m\u001b[0;34m\u001b[0m\u001b[0;34m\u001b[0m\u001b[0m\n\u001b[0;32m-> 1079\u001b[0;31m             \u001b[0;32mreturn\u001b[0m \u001b[0mself\u001b[0m\u001b[0;34m.\u001b[0m\u001b[0m_wait\u001b[0m\u001b[0;34m(\u001b[0m\u001b[0mtimeout\u001b[0m\u001b[0;34m=\u001b[0m\u001b[0mtimeout\u001b[0m\u001b[0;34m)\u001b[0m\u001b[0;34m\u001b[0m\u001b[0;34m\u001b[0m\u001b[0m\n\u001b[0m\u001b[1;32m   1080\u001b[0m         \u001b[0;32mexcept\u001b[0m \u001b[0mKeyboardInterrupt\u001b[0m\u001b[0;34m:\u001b[0m\u001b[0;34m\u001b[0m\u001b[0;34m\u001b[0m\u001b[0m\n\u001b[1;32m   1081\u001b[0m             \u001b[0;31m# https://bugs.python.org/issue25942\u001b[0m\u001b[0;34m\u001b[0m\u001b[0;34m\u001b[0m\u001b[0;34m\u001b[0m\u001b[0m\n",
      "\u001b[0;32m/Library/Frameworks/Python.framework/Versions/3.8/lib/python3.8/subprocess.py\u001b[0m in \u001b[0;36m_wait\u001b[0;34m(self, timeout)\u001b[0m\n\u001b[1;32m   1802\u001b[0m                         \u001b[0;32mif\u001b[0m \u001b[0mself\u001b[0m\u001b[0;34m.\u001b[0m\u001b[0mreturncode\u001b[0m \u001b[0;32mis\u001b[0m \u001b[0;32mnot\u001b[0m \u001b[0;32mNone\u001b[0m\u001b[0;34m:\u001b[0m\u001b[0;34m\u001b[0m\u001b[0;34m\u001b[0m\u001b[0m\n\u001b[1;32m   1803\u001b[0m                             \u001b[0;32mbreak\u001b[0m  \u001b[0;31m# Another thread waited.\u001b[0m\u001b[0;34m\u001b[0m\u001b[0;34m\u001b[0m\u001b[0m\n\u001b[0;32m-> 1804\u001b[0;31m                         \u001b[0;34m(\u001b[0m\u001b[0mpid\u001b[0m\u001b[0;34m,\u001b[0m \u001b[0msts\u001b[0m\u001b[0;34m)\u001b[0m \u001b[0;34m=\u001b[0m \u001b[0mself\u001b[0m\u001b[0;34m.\u001b[0m\u001b[0m_try_wait\u001b[0m\u001b[0;34m(\u001b[0m\u001b[0;36m0\u001b[0m\u001b[0;34m)\u001b[0m\u001b[0;34m\u001b[0m\u001b[0;34m\u001b[0m\u001b[0m\n\u001b[0m\u001b[1;32m   1805\u001b[0m                         \u001b[0;31m# Check the pid and loop as waitpid has been known to\u001b[0m\u001b[0;34m\u001b[0m\u001b[0;34m\u001b[0m\u001b[0;34m\u001b[0m\u001b[0m\n\u001b[1;32m   1806\u001b[0m                         \u001b[0;31m# return 0 even without WNOHANG in odd situations.\u001b[0m\u001b[0;34m\u001b[0m\u001b[0;34m\u001b[0m\u001b[0;34m\u001b[0m\u001b[0m\n",
      "\u001b[0;32m/Library/Frameworks/Python.framework/Versions/3.8/lib/python3.8/subprocess.py\u001b[0m in \u001b[0;36m_try_wait\u001b[0;34m(self, wait_flags)\u001b[0m\n\u001b[1;32m   1760\u001b[0m             \u001b[0;34m\"\"\"All callers to this function MUST hold self._waitpid_lock.\"\"\"\u001b[0m\u001b[0;34m\u001b[0m\u001b[0;34m\u001b[0m\u001b[0m\n\u001b[1;32m   1761\u001b[0m             \u001b[0;32mtry\u001b[0m\u001b[0;34m:\u001b[0m\u001b[0;34m\u001b[0m\u001b[0;34m\u001b[0m\u001b[0m\n\u001b[0;32m-> 1762\u001b[0;31m                 \u001b[0;34m(\u001b[0m\u001b[0mpid\u001b[0m\u001b[0;34m,\u001b[0m \u001b[0msts\u001b[0m\u001b[0;34m)\u001b[0m \u001b[0;34m=\u001b[0m \u001b[0mos\u001b[0m\u001b[0;34m.\u001b[0m\u001b[0mwaitpid\u001b[0m\u001b[0;34m(\u001b[0m\u001b[0mself\u001b[0m\u001b[0;34m.\u001b[0m\u001b[0mpid\u001b[0m\u001b[0;34m,\u001b[0m \u001b[0mwait_flags\u001b[0m\u001b[0;34m)\u001b[0m\u001b[0;34m\u001b[0m\u001b[0;34m\u001b[0m\u001b[0m\n\u001b[0m\u001b[1;32m   1763\u001b[0m             \u001b[0;32mexcept\u001b[0m \u001b[0mChildProcessError\u001b[0m\u001b[0;34m:\u001b[0m\u001b[0;34m\u001b[0m\u001b[0;34m\u001b[0m\u001b[0m\n\u001b[1;32m   1764\u001b[0m                 \u001b[0;31m# This happens if SIGCLD is set to be ignored or waiting\u001b[0m\u001b[0;34m\u001b[0m\u001b[0;34m\u001b[0m\u001b[0;34m\u001b[0m\u001b[0m\n",
      "\u001b[0;31mKeyboardInterrupt\u001b[0m: "
     ]
    }
   ],
   "source": [
    "subnet = '10.0.2.'\n",
    "for x in range(1, 255):\n",
    "    ip_address = f\"{subnet}{x}\"\n",
    "    print(ip_address)\n",
    "    subprocess.call(['ping', '-c', '1', ip_address])\n",
    "    "
   ]
  },
  {
   "cell_type": "code",
   "execution_count": 59,
   "metadata": {},
   "outputs": [
    {
     "ename": "KeyboardInterrupt",
     "evalue": "",
     "output_type": "error",
     "traceback": [
      "\u001b[0;31m---------------------------------------------------------------------------\u001b[0m",
      "\u001b[0;31mKeyboardInterrupt\u001b[0m                         Traceback (most recent call last)",
      "\u001b[0;32m<ipython-input-59-29350e3657a8>\u001b[0m in \u001b[0;36m<module>\u001b[0;34m\u001b[0m\n\u001b[0;32m----> 1\u001b[0;31m \u001b[0msubprocess\u001b[0m\u001b[0;34m.\u001b[0m\u001b[0mcall\u001b[0m\u001b[0;34m(\u001b[0m\u001b[0;34m[\u001b[0m\u001b[0;34m'nmap'\u001b[0m\u001b[0;34m,\u001b[0m \u001b[0;34m'-sp'\u001b[0m\u001b[0;34m,\u001b[0m \u001b[0;34m'-n'\u001b[0m\u001b[0;34m,\u001b[0m \u001b[0;34m'10.0.2.0/24'\u001b[0m\u001b[0;34m]\u001b[0m\u001b[0;34m)\u001b[0m\u001b[0;34m\u001b[0m\u001b[0;34m\u001b[0m\u001b[0m\n\u001b[0m",
      "\u001b[0;32m/Library/Frameworks/Python.framework/Versions/3.8/lib/python3.8/subprocess.py\u001b[0m in \u001b[0;36mcall\u001b[0;34m(timeout, *popenargs, **kwargs)\u001b[0m\n\u001b[1;32m    340\u001b[0m     \u001b[0;32mwith\u001b[0m \u001b[0mPopen\u001b[0m\u001b[0;34m(\u001b[0m\u001b[0;34m*\u001b[0m\u001b[0mpopenargs\u001b[0m\u001b[0;34m,\u001b[0m \u001b[0;34m**\u001b[0m\u001b[0mkwargs\u001b[0m\u001b[0;34m)\u001b[0m \u001b[0;32mas\u001b[0m \u001b[0mp\u001b[0m\u001b[0;34m:\u001b[0m\u001b[0;34m\u001b[0m\u001b[0;34m\u001b[0m\u001b[0m\n\u001b[1;32m    341\u001b[0m         \u001b[0;32mtry\u001b[0m\u001b[0;34m:\u001b[0m\u001b[0;34m\u001b[0m\u001b[0;34m\u001b[0m\u001b[0m\n\u001b[0;32m--> 342\u001b[0;31m             \u001b[0;32mreturn\u001b[0m \u001b[0mp\u001b[0m\u001b[0;34m.\u001b[0m\u001b[0mwait\u001b[0m\u001b[0;34m(\u001b[0m\u001b[0mtimeout\u001b[0m\u001b[0;34m=\u001b[0m\u001b[0mtimeout\u001b[0m\u001b[0;34m)\u001b[0m\u001b[0;34m\u001b[0m\u001b[0;34m\u001b[0m\u001b[0m\n\u001b[0m\u001b[1;32m    343\u001b[0m         \u001b[0;32mexcept\u001b[0m\u001b[0;34m:\u001b[0m  \u001b[0;31m# Including KeyboardInterrupt, wait handled that.\u001b[0m\u001b[0;34m\u001b[0m\u001b[0;34m\u001b[0m\u001b[0m\n\u001b[1;32m    344\u001b[0m             \u001b[0mp\u001b[0m\u001b[0;34m.\u001b[0m\u001b[0mkill\u001b[0m\u001b[0;34m(\u001b[0m\u001b[0;34m)\u001b[0m\u001b[0;34m\u001b[0m\u001b[0;34m\u001b[0m\u001b[0m\n",
      "\u001b[0;32m/Library/Frameworks/Python.framework/Versions/3.8/lib/python3.8/subprocess.py\u001b[0m in \u001b[0;36mwait\u001b[0;34m(self, timeout)\u001b[0m\n\u001b[1;32m   1077\u001b[0m             \u001b[0mendtime\u001b[0m \u001b[0;34m=\u001b[0m \u001b[0m_time\u001b[0m\u001b[0;34m(\u001b[0m\u001b[0;34m)\u001b[0m \u001b[0;34m+\u001b[0m \u001b[0mtimeout\u001b[0m\u001b[0;34m\u001b[0m\u001b[0;34m\u001b[0m\u001b[0m\n\u001b[1;32m   1078\u001b[0m         \u001b[0;32mtry\u001b[0m\u001b[0;34m:\u001b[0m\u001b[0;34m\u001b[0m\u001b[0;34m\u001b[0m\u001b[0m\n\u001b[0;32m-> 1079\u001b[0;31m             \u001b[0;32mreturn\u001b[0m \u001b[0mself\u001b[0m\u001b[0;34m.\u001b[0m\u001b[0m_wait\u001b[0m\u001b[0;34m(\u001b[0m\u001b[0mtimeout\u001b[0m\u001b[0;34m=\u001b[0m\u001b[0mtimeout\u001b[0m\u001b[0;34m)\u001b[0m\u001b[0;34m\u001b[0m\u001b[0;34m\u001b[0m\u001b[0m\n\u001b[0m\u001b[1;32m   1080\u001b[0m         \u001b[0;32mexcept\u001b[0m \u001b[0mKeyboardInterrupt\u001b[0m\u001b[0;34m:\u001b[0m\u001b[0;34m\u001b[0m\u001b[0;34m\u001b[0m\u001b[0m\n\u001b[1;32m   1081\u001b[0m             \u001b[0;31m# https://bugs.python.org/issue25942\u001b[0m\u001b[0;34m\u001b[0m\u001b[0;34m\u001b[0m\u001b[0;34m\u001b[0m\u001b[0m\n",
      "\u001b[0;32m/Library/Frameworks/Python.framework/Versions/3.8/lib/python3.8/subprocess.py\u001b[0m in \u001b[0;36m_wait\u001b[0;34m(self, timeout)\u001b[0m\n\u001b[1;32m   1802\u001b[0m                         \u001b[0;32mif\u001b[0m \u001b[0mself\u001b[0m\u001b[0;34m.\u001b[0m\u001b[0mreturncode\u001b[0m \u001b[0;32mis\u001b[0m \u001b[0;32mnot\u001b[0m \u001b[0;32mNone\u001b[0m\u001b[0;34m:\u001b[0m\u001b[0;34m\u001b[0m\u001b[0;34m\u001b[0m\u001b[0m\n\u001b[1;32m   1803\u001b[0m                             \u001b[0;32mbreak\u001b[0m  \u001b[0;31m# Another thread waited.\u001b[0m\u001b[0;34m\u001b[0m\u001b[0;34m\u001b[0m\u001b[0m\n\u001b[0;32m-> 1804\u001b[0;31m                         \u001b[0;34m(\u001b[0m\u001b[0mpid\u001b[0m\u001b[0;34m,\u001b[0m \u001b[0msts\u001b[0m\u001b[0;34m)\u001b[0m \u001b[0;34m=\u001b[0m \u001b[0mself\u001b[0m\u001b[0;34m.\u001b[0m\u001b[0m_try_wait\u001b[0m\u001b[0;34m(\u001b[0m\u001b[0;36m0\u001b[0m\u001b[0;34m)\u001b[0m\u001b[0;34m\u001b[0m\u001b[0;34m\u001b[0m\u001b[0m\n\u001b[0m\u001b[1;32m   1805\u001b[0m                         \u001b[0;31m# Check the pid and loop as waitpid has been known to\u001b[0m\u001b[0;34m\u001b[0m\u001b[0;34m\u001b[0m\u001b[0;34m\u001b[0m\u001b[0m\n\u001b[1;32m   1806\u001b[0m                         \u001b[0;31m# return 0 even without WNOHANG in odd situations.\u001b[0m\u001b[0;34m\u001b[0m\u001b[0;34m\u001b[0m\u001b[0;34m\u001b[0m\u001b[0m\n",
      "\u001b[0;32m/Library/Frameworks/Python.framework/Versions/3.8/lib/python3.8/subprocess.py\u001b[0m in \u001b[0;36m_try_wait\u001b[0;34m(self, wait_flags)\u001b[0m\n\u001b[1;32m   1760\u001b[0m             \u001b[0;34m\"\"\"All callers to this function MUST hold self._waitpid_lock.\"\"\"\u001b[0m\u001b[0;34m\u001b[0m\u001b[0;34m\u001b[0m\u001b[0m\n\u001b[1;32m   1761\u001b[0m             \u001b[0;32mtry\u001b[0m\u001b[0;34m:\u001b[0m\u001b[0;34m\u001b[0m\u001b[0;34m\u001b[0m\u001b[0m\n\u001b[0;32m-> 1762\u001b[0;31m                 \u001b[0;34m(\u001b[0m\u001b[0mpid\u001b[0m\u001b[0;34m,\u001b[0m \u001b[0msts\u001b[0m\u001b[0;34m)\u001b[0m \u001b[0;34m=\u001b[0m \u001b[0mos\u001b[0m\u001b[0;34m.\u001b[0m\u001b[0mwaitpid\u001b[0m\u001b[0;34m(\u001b[0m\u001b[0mself\u001b[0m\u001b[0;34m.\u001b[0m\u001b[0mpid\u001b[0m\u001b[0;34m,\u001b[0m \u001b[0mwait_flags\u001b[0m\u001b[0;34m)\u001b[0m\u001b[0;34m\u001b[0m\u001b[0;34m\u001b[0m\u001b[0m\n\u001b[0m\u001b[1;32m   1763\u001b[0m             \u001b[0;32mexcept\u001b[0m \u001b[0mChildProcessError\u001b[0m\u001b[0;34m:\u001b[0m\u001b[0;34m\u001b[0m\u001b[0;34m\u001b[0m\u001b[0m\n\u001b[1;32m   1764\u001b[0m                 \u001b[0;31m# This happens if SIGCLD is set to be ignored or waiting\u001b[0m\u001b[0;34m\u001b[0m\u001b[0;34m\u001b[0m\u001b[0;34m\u001b[0m\u001b[0m\n",
      "\u001b[0;31mKeyboardInterrupt\u001b[0m: "
     ]
    }
   ],
   "source": [
    "subprocess.call(['nmap', '-sp', '-n', '10.0.2.0/24'])"
   ]
  },
  {
   "cell_type": "code",
   "execution_count": null,
   "metadata": {},
   "outputs": [],
   "source": [
    "get_arp_table()"
   ]
  },
  {
   "cell_type": "code",
   "execution_count": null,
   "metadata": {},
   "outputs": [],
   "source": []
  },
  {
   "cell_type": "code",
   "execution_count": null,
   "metadata": {},
   "outputs": [],
   "source": []
  },
  {
   "cell_type": "code",
   "execution_count": 22,
   "metadata": {},
   "outputs": [],
   "source": [
    "re.match(\"\\(([0-9]+\\.[0-9]+\\.[0-9]+\\.[0-9]+)\\) at ([a-f0-9]{2}:[a-f0-9]{2}:[a-f0-9]{2}:[a-f0-9]{2}):[a-f0-9]{2}:[a-f0-9]{2}\", output)"
   ]
  },
  {
   "cell_type": "code",
   "execution_count": 25,
   "metadata": {},
   "outputs": [
    {
     "data": {
      "text/plain": [
       "[\"b'\",\n",
       " ' (10.0.2.1) at d4:8c:b5:ac:98:b6 on en0 ifscope [ethernet]\\\\n',\n",
       " ' (10.0.2.11) at 0:0:5e:0:1:1 on en0 ifscope [ethernet]\\\\n',\n",
       " ' (10.0.2.14) at dc:a6:32:4d:df:18 on en0 ifscope [ethernet]\\\\n',\n",
       " ' (10.0.2.154) at 3c:7:54:45:bb:c2 on en0 ifscope permanent [ethernet]\\\\n',\n",
       " ' (10.0.2.157) at ac:ae:19:a4:55:fd on en0 ifscope [ethernet]\\\\n',\n",
       " ' (10.0.2.158) at b8:27:eb:95:68:c3 on en0 ifscope [ethernet]\\\\n',\n",
       " ' (10.0.2.159) at 8:5:81:2a:e6:12 on en0 ifscope [ethernet]\\\\n',\n",
       " ' (10.0.2.161) at 30:fd:38:b0:22:da on en0 ifscope [ethernet]\\\\n',\n",
       " ' (10.0.2.166) at 2c:b4:3a:1e:1f:86 on en0 ifscope [ethernet]\\\\n',\n",
       " ' (10.0.2.168) at 0:17:88:68:46:a4 on en0 ifscope [ethernet]\\\\n',\n",
       " ' (10.0.2.170) at 44:33:4c:b3:27:f on en0 ifscope [ethernet]\\\\n',\n",
       " ' (10.0.2.173) at bc:83:85:54:d:7 on en0 ifscope [ethernet]\\\\n',\n",
       " ' (10.0.2.182) at d0:4d:2c:3a:8a:5d on en0 ifscope [ethernet]\\\\n',\n",
       " ' (10.0.2.183) at 2c:b4:3a:26:32:64 on en0 ifscope [ethernet]\\\\n',\n",
       " ' (10.0.2.186) at fe:ba:99:ef:40:93 on en0 ifscope [ethernet]\\\\n',\n",
       " ' (10.0.2.193) at b8:ae:6e:60:41:d2 on en0 ifscope [ethernet]\\\\n',\n",
       " ' (10.0.2.204) at 7c:bb:8a:f4:f2:b1 on en0 ifscope [ethernet]\\\\n',\n",
       " ' (10.0.2.214) at 5c:52:30:9a:73:ed on en0 ifscope [ethernet]\\\\n',\n",
       " ' (10.0.2.217) at 58:ef:68:ea:54:2d on en0 ifscope [ethernet]\\\\n',\n",
       " ' (10.0.2.222) at b8:d7:af:29:f:f4 on en0 ifscope [ethernet]\\\\n',\n",
       " ' (169.254.255.255) at d4:8c:b5:ac:98:b6 on en0 [ethernet]\\\\n',\n",
       " ' (224.0.0.251) at 1:0:5e:0:0:fb on en0 ifscope permanent [ethernet]\\\\n',\n",
       " ' (239.255.255.250) at 1:0:5e:7f:ff:fa on en0 ifscope permanent [ethernet]\\\\n',\n",
       " ' (239.255.255.250) at 1:0:5e:7f:ff:fa on en1 ifscope permanent [ethernet]\\\\n',\n",
       " ' (239.255.255.250) at 1:0:5e:7f:ff:fa on bridge0 ifscope permanent [ethernet]\\\\n',\n",
       " \" (255.255.255.255) at ff:ff:ff:ff:ff:ff on en0 ifscope [ethernet]\\\\n'\"]"
      ]
     },
     "execution_count": 25,
     "metadata": {},
     "output_type": "execute_result"
    }
   ],
   "source": []
  },
  {
   "cell_type": "code",
   "execution_count": 14,
   "metadata": {},
   "outputs": [
    {
     "data": {
      "text/plain": [
       "<re.Match object; span=(4, 21), match='(10.0.2.1) at d4:'>"
      ]
     },
     "execution_count": 14,
     "metadata": {},
     "output_type": "execute_result"
    }
   ],
   "source": [
    "re.search(\"\\(([0-9]+\\.[0-9]+\\.[0-9]+\\.[0-9]+)\\) at ([a-f0-9]{2}:)\", output)"
   ]
  },
  {
   "cell_type": "code",
   "execution_count": 9,
   "metadata": {},
   "outputs": [
    {
     "name": "stdout",
     "output_type": "stream",
     "text": [
      "2022-08-15 07:28 - ping to 10.0.2.217 OK\n"
     ]
    }
   ],
   "source": [
    "addr = address(ip_address, mac_address)"
   ]
  }
 ],
 "metadata": {
  "kernelspec": {
   "display_name": "Python 3",
   "language": "python",
   "name": "python3"
  },
  "language_info": {
   "codemirror_mode": {
    "name": "ipython",
    "version": 3
   },
   "file_extension": ".py",
   "mimetype": "text/x-python",
   "name": "python",
   "nbconvert_exporter": "python",
   "pygments_lexer": "ipython3",
   "version": "3.8.2"
  }
 },
 "nbformat": 4,
 "nbformat_minor": 4
}
